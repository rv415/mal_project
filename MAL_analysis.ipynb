{
 "cells": [
  {
   "cell_type": "markdown",
   "metadata": {},
   "source": [
    "## Carregando dados e Limpeza"
   ]
  },
  {
   "cell_type": "code",
   "execution_count": 1,
   "metadata": {},
   "outputs": [
    {
     "data": {
      "text/html": [
       "<div>\n",
       "<style scoped>\n",
       "    .dataframe tbody tr th:only-of-type {\n",
       "        vertical-align: middle;\n",
       "    }\n",
       "\n",
       "    .dataframe tbody tr th {\n",
       "        vertical-align: top;\n",
       "    }\n",
       "\n",
       "    .dataframe thead th {\n",
       "        text-align: right;\n",
       "    }\n",
       "</style>\n",
       "<table border=\"1\" class=\"dataframe\">\n",
       "  <thead>\n",
       "    <tr style=\"text-align: right;\">\n",
       "      <th></th>\n",
       "      <th>Unnamed: 0</th>\n",
       "      <th>id</th>\n",
       "      <th>title</th>\n",
       "      <th>mean</th>\n",
       "      <th>rank</th>\n",
       "      <th>genres</th>\n",
       "      <th>num_list_users</th>\n",
       "      <th>num_scoring_users</th>\n",
       "      <th>num_episodes</th>\n",
       "      <th>source</th>\n",
       "      <th>rating</th>\n",
       "      <th>nsfw</th>\n",
       "      <th>studios</th>\n",
       "      <th>media_type</th>\n",
       "      <th>average_episode_duration</th>\n",
       "      <th>start_date</th>\n",
       "    </tr>\n",
       "  </thead>\n",
       "  <tbody>\n",
       "    <tr>\n",
       "      <th>7853</th>\n",
       "      <td>7853</td>\n",
       "      <td>2052</td>\n",
       "      <td>Nozomi Witches</td>\n",
       "      <td>6.28</td>\n",
       "      <td>7854</td>\n",
       "      <td>['Combat Sports', 'Romance', 'Sports']</td>\n",
       "      <td>1987</td>\n",
       "      <td>557</td>\n",
       "      <td>3</td>\n",
       "      <td>manga</td>\n",
       "      <td>pg_13</td>\n",
       "      <td>white</td>\n",
       "      <td>['Group TAC']</td>\n",
       "      <td>ova</td>\n",
       "      <td>3160</td>\n",
       "      <td>1992-08-05</td>\n",
       "    </tr>\n",
       "    <tr>\n",
       "      <th>6818</th>\n",
       "      <td>6818</td>\n",
       "      <td>9391</td>\n",
       "      <td>Ginga Hyouryuu Vifam 13</td>\n",
       "      <td>6.47</td>\n",
       "      <td>6819</td>\n",
       "      <td>['Action', 'Adventure', 'Mecha', 'Sci-Fi']</td>\n",
       "      <td>810</td>\n",
       "      <td>140</td>\n",
       "      <td>26</td>\n",
       "      <td>NaN</td>\n",
       "      <td>g</td>\n",
       "      <td>white</td>\n",
       "      <td>['Sunrise']</td>\n",
       "      <td>tv</td>\n",
       "      <td>1440</td>\n",
       "      <td>1998-03-21</td>\n",
       "    </tr>\n",
       "    <tr>\n",
       "      <th>311</th>\n",
       "      <td>311</td>\n",
       "      <td>11843</td>\n",
       "      <td>Danshi Koukousei no Nichijou</td>\n",
       "      <td>8.23</td>\n",
       "      <td>312</td>\n",
       "      <td>['Comedy', 'Gag Humor', 'School']</td>\n",
       "      <td>806848</td>\n",
       "      <td>406964</td>\n",
       "      <td>12</td>\n",
       "      <td>web_manga</td>\n",
       "      <td>pg_13</td>\n",
       "      <td>white</td>\n",
       "      <td>['Sunrise']</td>\n",
       "      <td>tv</td>\n",
       "      <td>1440</td>\n",
       "      <td>2012-01-10</td>\n",
       "    </tr>\n",
       "    <tr>\n",
       "      <th>945</th>\n",
       "      <td>945</td>\n",
       "      <td>49574</td>\n",
       "      <td>Yi Nian Yong Heng: Chuan Cheng Pian</td>\n",
       "      <td>7.81</td>\n",
       "      <td>946</td>\n",
       "      <td>['Action', 'Adventure', 'Fantasy', 'Historical...</td>\n",
       "      <td>5555</td>\n",
       "      <td>1395</td>\n",
       "      <td>54</td>\n",
       "      <td>novel</td>\n",
       "      <td>pg_13</td>\n",
       "      <td>white</td>\n",
       "      <td>['B.CMAY PICTURES']</td>\n",
       "      <td>ona</td>\n",
       "      <td>1166</td>\n",
       "      <td>2022-07-20</td>\n",
       "    </tr>\n",
       "    <tr>\n",
       "      <th>4100</th>\n",
       "      <td>4100</td>\n",
       "      <td>3138</td>\n",
       "      <td>Solty Rei: Surechigau Kimochi de, Omoi Au Koko...</td>\n",
       "      <td>7.01</td>\n",
       "      <td>4101</td>\n",
       "      <td>['Comedy', 'Drama']</td>\n",
       "      <td>4039</td>\n",
       "      <td>1808</td>\n",
       "      <td>1</td>\n",
       "      <td>original</td>\n",
       "      <td>pg_13</td>\n",
       "      <td>white</td>\n",
       "      <td>['Gonzo', 'AIC']</td>\n",
       "      <td>special</td>\n",
       "      <td>2580</td>\n",
       "      <td>2006-07-26</td>\n",
       "    </tr>\n",
       "  </tbody>\n",
       "</table>\n",
       "</div>"
      ],
      "text/plain": [
       "      Unnamed: 0     id                                              title  \\\n",
       "7853        7853   2052                                     Nozomi Witches   \n",
       "6818        6818   9391                            Ginga Hyouryuu Vifam 13   \n",
       "311          311  11843                       Danshi Koukousei no Nichijou   \n",
       "945          945  49574                Yi Nian Yong Heng: Chuan Cheng Pian   \n",
       "4100        4100   3138  Solty Rei: Surechigau Kimochi de, Omoi Au Koko...   \n",
       "\n",
       "      mean  rank                                             genres  \\\n",
       "7853  6.28  7854             ['Combat Sports', 'Romance', 'Sports']   \n",
       "6818  6.47  6819         ['Action', 'Adventure', 'Mecha', 'Sci-Fi']   \n",
       "311   8.23   312                  ['Comedy', 'Gag Humor', 'School']   \n",
       "945   7.81   946  ['Action', 'Adventure', 'Fantasy', 'Historical...   \n",
       "4100  7.01  4101                                ['Comedy', 'Drama']   \n",
       "\n",
       "      num_list_users  num_scoring_users  num_episodes     source rating  \\\n",
       "7853            1987                557             3      manga  pg_13   \n",
       "6818             810                140            26        NaN      g   \n",
       "311           806848             406964            12  web_manga  pg_13   \n",
       "945             5555               1395            54      novel  pg_13   \n",
       "4100            4039               1808             1   original  pg_13   \n",
       "\n",
       "       nsfw              studios media_type  average_episode_duration  \\\n",
       "7853  white        ['Group TAC']        ova                      3160   \n",
       "6818  white          ['Sunrise']         tv                      1440   \n",
       "311   white          ['Sunrise']         tv                      1440   \n",
       "945   white  ['B.CMAY PICTURES']        ona                      1166   \n",
       "4100  white     ['Gonzo', 'AIC']    special                      2580   \n",
       "\n",
       "      start_date  \n",
       "7853  1992-08-05  \n",
       "6818  1998-03-21  \n",
       "311   2012-01-10  \n",
       "945   2022-07-20  \n",
       "4100  2006-07-26  "
      ]
     },
     "execution_count": 1,
     "metadata": {},
     "output_type": "execute_result"
    }
   ],
   "source": [
    "\n",
    "import numpy as np\n",
    "import pandas as pd\n",
    "data = pd.read_excel(\"mal_data.xlsx\")\n",
    "data.sample(5)"
   ]
  },
  {
   "cell_type": "markdown",
   "metadata": {},
   "source": [
    "Explicando o significado das colunas:\n",
    "- `id` refere-se ao id do anime no site\n",
    "- `title` refere-se ao título do anime\n",
    "- `mean` refere-se a nota que o anime recebe no site, que é calculada [assim](https://myanimelist.net/info.php?go=topanime)\n",
    "- `genres` são os generos do anime\n",
    "- `num_list_users` é ao número de listas que o anime esta presente \n",
    "- `num_scoring_users` é o número de pessoas que avaliaram o anime\n",
    "- `num_episodes` é o número de episódios do anime\n",
    "- `source` é a origem do anime, a origem mais famosa são os mangás\n",
    "- `rating` é a classificação indicativa do anime\n",
    "- `nsfw` é um booleando dizendo se o anime é not safe for work\n",
    "- `studios` é o studio de animação do anime\n",
    "- `media-type` é o tipo de mídia do anime\n",
    "- `average_episode_duration` é a duração média de um episódio em segundos\n",
    "- `start_date` é a data de lançamento do anime\n",
    "\n",
    "Seguindo então, vamos eliminar a coluna irrelevante para nós e observar os nulos"
   ]
  },
  {
   "cell_type": "code",
   "execution_count": 2,
   "metadata": {},
   "outputs": [
    {
     "data": {
      "text/html": [
       "<div>\n",
       "<style scoped>\n",
       "    .dataframe tbody tr th:only-of-type {\n",
       "        vertical-align: middle;\n",
       "    }\n",
       "\n",
       "    .dataframe tbody tr th {\n",
       "        vertical-align: top;\n",
       "    }\n",
       "\n",
       "    .dataframe thead th {\n",
       "        text-align: right;\n",
       "    }\n",
       "</style>\n",
       "<table border=\"1\" class=\"dataframe\">\n",
       "  <thead>\n",
       "    <tr style=\"text-align: right;\">\n",
       "      <th></th>\n",
       "      <th>id</th>\n",
       "      <th>title</th>\n",
       "      <th>mean</th>\n",
       "      <th>rank</th>\n",
       "      <th>genres</th>\n",
       "      <th>num_list_users</th>\n",
       "      <th>num_scoring_users</th>\n",
       "      <th>num_episodes</th>\n",
       "      <th>source</th>\n",
       "      <th>rating</th>\n",
       "      <th>nsfw</th>\n",
       "      <th>studios</th>\n",
       "      <th>media_type</th>\n",
       "      <th>average_episode_duration</th>\n",
       "      <th>start_date</th>\n",
       "    </tr>\n",
       "  </thead>\n",
       "  <tbody>\n",
       "    <tr>\n",
       "      <th>382</th>\n",
       "      <td>10534</td>\n",
       "      <td>Doraemon Movie 31: Shin Nobita to Tetsujin Hei...</td>\n",
       "      <td>8.18</td>\n",
       "      <td>383</td>\n",
       "      <td>['Adventure', 'Comedy', 'Fantasy', 'Kids', 'Me...</td>\n",
       "      <td>14625</td>\n",
       "      <td>9927</td>\n",
       "      <td>1</td>\n",
       "      <td>NaN</td>\n",
       "      <td>pg</td>\n",
       "      <td>white</td>\n",
       "      <td>['Shin-Ei Animation']</td>\n",
       "      <td>movie</td>\n",
       "      <td>6480</td>\n",
       "      <td>2011-03-05</td>\n",
       "    </tr>\n",
       "    <tr>\n",
       "      <th>1242</th>\n",
       "      <td>6154</td>\n",
       "      <td>Saint Seiya: Meiou Hades Juuni Kyuu-hen - Yomi...</td>\n",
       "      <td>7.67</td>\n",
       "      <td>1243</td>\n",
       "      <td>['Adventure', 'Sci-Fi', 'Shounen']</td>\n",
       "      <td>9982</td>\n",
       "      <td>4599</td>\n",
       "      <td>2</td>\n",
       "      <td>NaN</td>\n",
       "      <td>pg_13</td>\n",
       "      <td>white</td>\n",
       "      <td>['Toei Animation']</td>\n",
       "      <td>special</td>\n",
       "      <td>3240</td>\n",
       "      <td>2003</td>\n",
       "    </tr>\n",
       "    <tr>\n",
       "      <th>1517</th>\n",
       "      <td>2673</td>\n",
       "      <td>Doraemon Movie 27: Nobita no Shin Makai Daibou...</td>\n",
       "      <td>7.57</td>\n",
       "      <td>1518</td>\n",
       "      <td>['Adventure', 'Comedy', 'Fantasy']</td>\n",
       "      <td>9241</td>\n",
       "      <td>5713</td>\n",
       "      <td>1</td>\n",
       "      <td>NaN</td>\n",
       "      <td>pg</td>\n",
       "      <td>white</td>\n",
       "      <td>['Shin-Ei Animation']</td>\n",
       "      <td>movie</td>\n",
       "      <td>6745</td>\n",
       "      <td>2007-03-10</td>\n",
       "    </tr>\n",
       "    <tr>\n",
       "      <th>1623</th>\n",
       "      <td>2392</td>\n",
       "      <td>Doraemon Movie 26: Nobita no Kyouryuu 2006</td>\n",
       "      <td>7.55</td>\n",
       "      <td>1624</td>\n",
       "      <td>['Adventure', 'Comedy', 'Kids', 'Time Travel']</td>\n",
       "      <td>14912</td>\n",
       "      <td>10018</td>\n",
       "      <td>1</td>\n",
       "      <td>NaN</td>\n",
       "      <td>pg</td>\n",
       "      <td>white</td>\n",
       "      <td>['Shin-Ei Animation']</td>\n",
       "      <td>movie</td>\n",
       "      <td>6420</td>\n",
       "      <td>2006-03-04</td>\n",
       "    </tr>\n",
       "    <tr>\n",
       "      <th>1646</th>\n",
       "      <td>7270</td>\n",
       "      <td>Kidou Senshi Gundam 00 Special Edition</td>\n",
       "      <td>7.54</td>\n",
       "      <td>1647</td>\n",
       "      <td>['Action', 'Drama', 'Mecha', 'Military', 'Sci-...</td>\n",
       "      <td>11822</td>\n",
       "      <td>4038</td>\n",
       "      <td>3</td>\n",
       "      <td>NaN</td>\n",
       "      <td>pg_13</td>\n",
       "      <td>white</td>\n",
       "      <td>['Sunrise']</td>\n",
       "      <td>ova</td>\n",
       "      <td>5940</td>\n",
       "      <td>2009-10-27</td>\n",
       "    </tr>\n",
       "    <tr>\n",
       "      <th>...</th>\n",
       "      <td>...</td>\n",
       "      <td>...</td>\n",
       "      <td>...</td>\n",
       "      <td>...</td>\n",
       "      <td>...</td>\n",
       "      <td>...</td>\n",
       "      <td>...</td>\n",
       "      <td>...</td>\n",
       "      <td>...</td>\n",
       "      <td>...</td>\n",
       "      <td>...</td>\n",
       "      <td>...</td>\n",
       "      <td>...</td>\n",
       "      <td>...</td>\n",
       "      <td>...</td>\n",
       "    </tr>\n",
       "    <tr>\n",
       "      <th>9971</th>\n",
       "      <td>7980</td>\n",
       "      <td>Shin Obake no Q-tarou</td>\n",
       "      <td>5.85</td>\n",
       "      <td>9972</td>\n",
       "      <td>['Comedy', 'School', 'Slice of Life', 'Superna...</td>\n",
       "      <td>569</td>\n",
       "      <td>127</td>\n",
       "      <td>70</td>\n",
       "      <td>NaN</td>\n",
       "      <td>g</td>\n",
       "      <td>white</td>\n",
       "      <td>[]</td>\n",
       "      <td>tv</td>\n",
       "      <td>1500</td>\n",
       "      <td>1971-09-01</td>\n",
       "    </tr>\n",
       "    <tr>\n",
       "      <th>9977</th>\n",
       "      <td>22615</td>\n",
       "      <td>Kerokero Keroppi no Kero Kero House no Himitsu</td>\n",
       "      <td>5.84</td>\n",
       "      <td>9978</td>\n",
       "      <td>['Fantasy', 'Kids']</td>\n",
       "      <td>412</td>\n",
       "      <td>112</td>\n",
       "      <td>1</td>\n",
       "      <td>NaN</td>\n",
       "      <td>g</td>\n",
       "      <td>white</td>\n",
       "      <td>[]</td>\n",
       "      <td>ova</td>\n",
       "      <td>1800</td>\n",
       "      <td>1993-11-21</td>\n",
       "    </tr>\n",
       "    <tr>\n",
       "      <th>9980</th>\n",
       "      <td>29834</td>\n",
       "      <td>Moshidora Recap</td>\n",
       "      <td>5.84</td>\n",
       "      <td>9981</td>\n",
       "      <td>['Drama', 'Sports', 'Team Sports']</td>\n",
       "      <td>738</td>\n",
       "      <td>172</td>\n",
       "      <td>1</td>\n",
       "      <td>NaN</td>\n",
       "      <td>pg_13</td>\n",
       "      <td>white</td>\n",
       "      <td>['Production I.G']</td>\n",
       "      <td>special</td>\n",
       "      <td>4380</td>\n",
       "      <td>2011-08-16</td>\n",
       "    </tr>\n",
       "    <tr>\n",
       "      <th>9996</th>\n",
       "      <td>9167</td>\n",
       "      <td>Shukufuku no Campanella Specials</td>\n",
       "      <td>5.84</td>\n",
       "      <td>9997</td>\n",
       "      <td>['Ecchi']</td>\n",
       "      <td>4166</td>\n",
       "      <td>1597</td>\n",
       "      <td>6</td>\n",
       "      <td>NaN</td>\n",
       "      <td>r+</td>\n",
       "      <td>gray</td>\n",
       "      <td>['AIC']</td>\n",
       "      <td>special</td>\n",
       "      <td>115</td>\n",
       "      <td>2010-09-22</td>\n",
       "    </tr>\n",
       "    <tr>\n",
       "      <th>9997</th>\n",
       "      <td>11405</td>\n",
       "      <td>Skyers 5</td>\n",
       "      <td>5.84</td>\n",
       "      <td>9998</td>\n",
       "      <td>['Action', 'Sci-Fi']</td>\n",
       "      <td>676</td>\n",
       "      <td>155</td>\n",
       "      <td>12</td>\n",
       "      <td>NaN</td>\n",
       "      <td>g</td>\n",
       "      <td>white</td>\n",
       "      <td>[]</td>\n",
       "      <td>tv</td>\n",
       "      <td>1444</td>\n",
       "      <td>1967-10-04</td>\n",
       "    </tr>\n",
       "  </tbody>\n",
       "</table>\n",
       "<p>800 rows × 15 columns</p>\n",
       "</div>"
      ],
      "text/plain": [
       "         id                                              title  mean  rank  \\\n",
       "382   10534  Doraemon Movie 31: Shin Nobita to Tetsujin Hei...  8.18   383   \n",
       "1242   6154  Saint Seiya: Meiou Hades Juuni Kyuu-hen - Yomi...  7.67  1243   \n",
       "1517   2673  Doraemon Movie 27: Nobita no Shin Makai Daibou...  7.57  1518   \n",
       "1623   2392         Doraemon Movie 26: Nobita no Kyouryuu 2006  7.55  1624   \n",
       "1646   7270             Kidou Senshi Gundam 00 Special Edition  7.54  1647   \n",
       "...     ...                                                ...   ...   ...   \n",
       "9971   7980                              Shin Obake no Q-tarou  5.85  9972   \n",
       "9977  22615     Kerokero Keroppi no Kero Kero House no Himitsu  5.84  9978   \n",
       "9980  29834                                    Moshidora Recap  5.84  9981   \n",
       "9996   9167                   Shukufuku no Campanella Specials  5.84  9997   \n",
       "9997  11405                                           Skyers 5  5.84  9998   \n",
       "\n",
       "                                                 genres  num_list_users  \\\n",
       "382   ['Adventure', 'Comedy', 'Fantasy', 'Kids', 'Me...           14625   \n",
       "1242                 ['Adventure', 'Sci-Fi', 'Shounen']            9982   \n",
       "1517                 ['Adventure', 'Comedy', 'Fantasy']            9241   \n",
       "1623     ['Adventure', 'Comedy', 'Kids', 'Time Travel']           14912   \n",
       "1646  ['Action', 'Drama', 'Mecha', 'Military', 'Sci-...           11822   \n",
       "...                                                 ...             ...   \n",
       "9971  ['Comedy', 'School', 'Slice of Life', 'Superna...             569   \n",
       "9977                                ['Fantasy', 'Kids']             412   \n",
       "9980                 ['Drama', 'Sports', 'Team Sports']             738   \n",
       "9996                                          ['Ecchi']            4166   \n",
       "9997                               ['Action', 'Sci-Fi']             676   \n",
       "\n",
       "      num_scoring_users  num_episodes source rating   nsfw  \\\n",
       "382                9927             1    NaN     pg  white   \n",
       "1242               4599             2    NaN  pg_13  white   \n",
       "1517               5713             1    NaN     pg  white   \n",
       "1623              10018             1    NaN     pg  white   \n",
       "1646               4038             3    NaN  pg_13  white   \n",
       "...                 ...           ...    ...    ...    ...   \n",
       "9971                127            70    NaN      g  white   \n",
       "9977                112             1    NaN      g  white   \n",
       "9980                172             1    NaN  pg_13  white   \n",
       "9996               1597             6    NaN     r+   gray   \n",
       "9997                155            12    NaN      g  white   \n",
       "\n",
       "                    studios media_type  average_episode_duration  start_date  \n",
       "382   ['Shin-Ei Animation']      movie                      6480  2011-03-05  \n",
       "1242     ['Toei Animation']    special                      3240        2003  \n",
       "1517  ['Shin-Ei Animation']      movie                      6745  2007-03-10  \n",
       "1623  ['Shin-Ei Animation']      movie                      6420  2006-03-04  \n",
       "1646            ['Sunrise']        ova                      5940  2009-10-27  \n",
       "...                     ...        ...                       ...         ...  \n",
       "9971                     []         tv                      1500  1971-09-01  \n",
       "9977                     []        ova                      1800  1993-11-21  \n",
       "9980     ['Production I.G']    special                      4380  2011-08-16  \n",
       "9996                ['AIC']    special                       115  2010-09-22  \n",
       "9997                     []         tv                      1444  1967-10-04  \n",
       "\n",
       "[800 rows x 15 columns]"
      ]
     },
     "execution_count": 2,
     "metadata": {},
     "output_type": "execute_result"
    }
   ],
   "source": [
    "data.drop('Unnamed: 0',axis=1, inplace=True)\n",
    "data[data.isnull().any(axis=1)]"
   ]
  },
  {
   "cell_type": "code",
   "execution_count": 3,
   "metadata": {},
   "outputs": [
    {
     "name": "stdout",
     "output_type": "stream",
     "text": [
      "<class 'pandas.core.frame.DataFrame'>\n",
      "RangeIndex: 10000 entries, 0 to 9999\n",
      "Data columns (total 15 columns):\n",
      " #   Column                    Non-Null Count  Dtype  \n",
      "---  ------                    --------------  -----  \n",
      " 0   id                        10000 non-null  int64  \n",
      " 1   title                     10000 non-null  object \n",
      " 2   mean                      10000 non-null  float64\n",
      " 3   rank                      10000 non-null  int64  \n",
      " 4   genres                    9990 non-null   object \n",
      " 5   num_list_users            10000 non-null  int64  \n",
      " 6   num_scoring_users         10000 non-null  int64  \n",
      " 7   num_episodes              10000 non-null  int64  \n",
      " 8   source                    9256 non-null   object \n",
      " 9   rating                    9935 non-null   object \n",
      " 10  nsfw                      10000 non-null  object \n",
      " 11  studios                   10000 non-null  object \n",
      " 12  media_type                10000 non-null  object \n",
      " 13  average_episode_duration  10000 non-null  int64  \n",
      " 14  start_date                9996 non-null   object \n",
      "dtypes: float64(1), int64(6), object(8)\n",
      "memory usage: 1.1+ MB\n"
     ]
    }
   ],
   "source": [
    "data.info()"
   ]
  },
  {
   "cell_type": "markdown",
   "metadata": {},
   "source": [
    "Para correção dos nulos vamos utilizar\n",
    "- Nulos em `source` dados que não existe dados sobre o material original vamos supor que não é uma adaptação e sim algo original\n",
    "- Para `genres` e `studios` vamos completar nulos com `[]`\n",
    "- Por fim, vamos transformar as data para utilizar apeans o ano\n"
   ]
  },
  {
   "cell_type": "code",
   "execution_count": 4,
   "metadata": {},
   "outputs": [],
   "source": [
    "# completando nulos\n",
    "data[\"source\"].fillna(\"original\",inplace=True)\n",
    "data[\"genres\"].fillna(\"[]\",inplace=True)\n",
    "data[\"studios\"].fillna(\"[]\",inplace=True)\n",
    "data['start_date'] = pd.to_datetime(data['start_date'], errors='coerce').dt.year\n",
    "\n",
    "# os outros eu não completei pois não me atrapalharão\n",
    "\n",
    "\n",
    "\n",
    "data[\"genres\"] = data[\"genres\"].apply(eval)\n",
    "data[\"studios\"] = data[\"studios\"].apply(eval)"
   ]
  },
  {
   "cell_type": "code",
   "execution_count": 5,
   "metadata": {},
   "outputs": [
    {
     "data": {
      "text/html": [
       "<div>\n",
       "<style scoped>\n",
       "    .dataframe tbody tr th:only-of-type {\n",
       "        vertical-align: middle;\n",
       "    }\n",
       "\n",
       "    .dataframe tbody tr th {\n",
       "        vertical-align: top;\n",
       "    }\n",
       "\n",
       "    .dataframe thead th {\n",
       "        text-align: right;\n",
       "    }\n",
       "</style>\n",
       "<table border=\"1\" class=\"dataframe\">\n",
       "  <thead>\n",
       "    <tr style=\"text-align: right;\">\n",
       "      <th></th>\n",
       "      <th>id</th>\n",
       "      <th>title</th>\n",
       "      <th>mean</th>\n",
       "      <th>rank</th>\n",
       "      <th>genres</th>\n",
       "      <th>num_list_users</th>\n",
       "      <th>num_scoring_users</th>\n",
       "      <th>num_episodes</th>\n",
       "      <th>source</th>\n",
       "      <th>rating</th>\n",
       "      <th>nsfw</th>\n",
       "      <th>studios</th>\n",
       "      <th>media_type</th>\n",
       "      <th>average_episode_duration</th>\n",
       "      <th>start_date</th>\n",
       "    </tr>\n",
       "  </thead>\n",
       "  <tbody>\n",
       "    <tr>\n",
       "      <th>0</th>\n",
       "      <td>5114</td>\n",
       "      <td>Fullmetal Alchemist: Brotherhood</td>\n",
       "      <td>9.10</td>\n",
       "      <td>1</td>\n",
       "      <td>[Action, Adventure, Drama, Fantasy, Military, ...</td>\n",
       "      <td>3247266</td>\n",
       "      <td>2061018</td>\n",
       "      <td>64</td>\n",
       "      <td>manga</td>\n",
       "      <td>r</td>\n",
       "      <td>white</td>\n",
       "      <td>[Bones]</td>\n",
       "      <td>tv</td>\n",
       "      <td>1460</td>\n",
       "      <td>2009.0</td>\n",
       "    </tr>\n",
       "    <tr>\n",
       "      <th>1</th>\n",
       "      <td>9253</td>\n",
       "      <td>Steins;Gate</td>\n",
       "      <td>9.07</td>\n",
       "      <td>2</td>\n",
       "      <td>[Drama, Psychological, Sci-Fi, Suspense, Time ...</td>\n",
       "      <td>2495364</td>\n",
       "      <td>1364387</td>\n",
       "      <td>24</td>\n",
       "      <td>visual_novel</td>\n",
       "      <td>pg_13</td>\n",
       "      <td>white</td>\n",
       "      <td>[White Fox]</td>\n",
       "      <td>tv</td>\n",
       "      <td>1460</td>\n",
       "      <td>2011.0</td>\n",
       "    </tr>\n",
       "    <tr>\n",
       "      <th>2</th>\n",
       "      <td>28977</td>\n",
       "      <td>Gintama°</td>\n",
       "      <td>9.06</td>\n",
       "      <td>3</td>\n",
       "      <td>[Action, Comedy, Gag Humor, Historical, Parody...</td>\n",
       "      <td>611704</td>\n",
       "      <td>243892</td>\n",
       "      <td>51</td>\n",
       "      <td>manga</td>\n",
       "      <td>pg_13</td>\n",
       "      <td>white</td>\n",
       "      <td>[Bandai Namco Pictures]</td>\n",
       "      <td>tv</td>\n",
       "      <td>1440</td>\n",
       "      <td>2015.0</td>\n",
       "    </tr>\n",
       "    <tr>\n",
       "      <th>3</th>\n",
       "      <td>38524</td>\n",
       "      <td>Shingeki no Kyojin Season 3 Part 2</td>\n",
       "      <td>9.05</td>\n",
       "      <td>4</td>\n",
       "      <td>[Action, Drama, Gore, Military, Shounen, Survi...</td>\n",
       "      <td>2174514</td>\n",
       "      <td>1517674</td>\n",
       "      <td>10</td>\n",
       "      <td>manga</td>\n",
       "      <td>r</td>\n",
       "      <td>white</td>\n",
       "      <td>[Wit Studio]</td>\n",
       "      <td>tv</td>\n",
       "      <td>1435</td>\n",
       "      <td>2019.0</td>\n",
       "    </tr>\n",
       "    <tr>\n",
       "      <th>4</th>\n",
       "      <td>52991</td>\n",
       "      <td>Sousou no Frieren</td>\n",
       "      <td>9.05</td>\n",
       "      <td>5</td>\n",
       "      <td>[Adventure, Drama, Fantasy, Shounen]</td>\n",
       "      <td>269359</td>\n",
       "      <td>55692</td>\n",
       "      <td>28</td>\n",
       "      <td>manga</td>\n",
       "      <td>pg_13</td>\n",
       "      <td>white</td>\n",
       "      <td>[Madhouse]</td>\n",
       "      <td>tv</td>\n",
       "      <td>1440</td>\n",
       "      <td>2023.0</td>\n",
       "    </tr>\n",
       "  </tbody>\n",
       "</table>\n",
       "</div>"
      ],
      "text/plain": [
       "      id                               title  mean  rank  \\\n",
       "0   5114    Fullmetal Alchemist: Brotherhood  9.10     1   \n",
       "1   9253                         Steins;Gate  9.07     2   \n",
       "2  28977                            Gintama°  9.06     3   \n",
       "3  38524  Shingeki no Kyojin Season 3 Part 2  9.05     4   \n",
       "4  52991                   Sousou no Frieren  9.05     5   \n",
       "\n",
       "                                              genres  num_list_users  \\\n",
       "0  [Action, Adventure, Drama, Fantasy, Military, ...         3247266   \n",
       "1  [Drama, Psychological, Sci-Fi, Suspense, Time ...         2495364   \n",
       "2  [Action, Comedy, Gag Humor, Historical, Parody...          611704   \n",
       "3  [Action, Drama, Gore, Military, Shounen, Survi...         2174514   \n",
       "4               [Adventure, Drama, Fantasy, Shounen]          269359   \n",
       "\n",
       "   num_scoring_users  num_episodes        source rating   nsfw  \\\n",
       "0            2061018            64         manga      r  white   \n",
       "1            1364387            24  visual_novel  pg_13  white   \n",
       "2             243892            51         manga  pg_13  white   \n",
       "3            1517674            10         manga      r  white   \n",
       "4              55692            28         manga  pg_13  white   \n",
       "\n",
       "                   studios media_type  average_episode_duration  start_date  \n",
       "0                  [Bones]         tv                      1460      2009.0  \n",
       "1              [White Fox]         tv                      1460      2011.0  \n",
       "2  [Bandai Namco Pictures]         tv                      1440      2015.0  \n",
       "3             [Wit Studio]         tv                      1435      2019.0  \n",
       "4               [Madhouse]         tv                      1440      2023.0  "
      ]
     },
     "execution_count": 5,
     "metadata": {},
     "output_type": "execute_result"
    }
   ],
   "source": [
    "data.head()"
   ]
  },
  {
   "cell_type": "markdown",
   "metadata": {},
   "source": [
    "## Análise Inicial"
   ]
  },
  {
   "cell_type": "markdown",
   "metadata": {},
   "source": [
    "Vamos agora avaliar a produção de animes com o tempo"
   ]
  },
  {
   "cell_type": "code",
   "execution_count": 6,
   "metadata": {},
   "outputs": [
    {
     "data": {
      "text/plain": [
       "Text(0.5, 0, 'Ano')"
      ]
     },
     "execution_count": 6,
     "metadata": {},
     "output_type": "execute_result"
    },
    {
     "data": {
      "image/png": "[encoded data removed]",
      "text/plain": [
       "<Figure size 1600x900 with 1 Axes>"
      ]
     },
     "metadata": {
      "needs_background": "light"
     },
     "output_type": "display_data"
    }
   ],
   "source": [
    "import seaborn as sns\n",
    "import matplotlib.pyplot as plt\n",
    "\n",
    "# Seleciona tema para colocar grid e paleta para acessivel para problemas de visão\n",
    "sns.set_theme(style=\"darkgrid\",palette=\"colorblind\")\n",
    "\n",
    "\n",
    "tot_por_ano = pd.DataFrame(data[data[\"start_date\"]>1990][\"start_date\"].value_counts()).reset_index()\n",
    "figura, ax = plt.subplots(figsize=(16, 9),facecolor='none')\n",
    "\n",
    "\n",
    "sns.despine(figura)\n",
    "\n",
    "sns.lineplot(x=\"index\",y=\"start_date\",data=tot_por_ano)\n",
    "sns.scatterplot(x=\"index\",y=\"start_date\",data=tot_por_ano)\n",
    "\n",
    "\n",
    "plt.ylabel('Animes lançados')\n",
    "plt.xlabel('Ano')\n",
    "\n"
   ]
  },
  {
   "cell_type": "markdown",
   "metadata": {},
   "source": [
    "Vamos então olhar para o número de animes em listas.\n",
    "Note que essa soma tende a dar um valor mais alto pois considere 2 pessoas e 2 animes, se ambos assistem os 2 animes é considerado 4, porque os 2 animes estão nas 2 listas.\n",
    "Além disso vou selecionar animes a partir dos anos 80"
   ]
  },
  {
   "cell_type": "code",
   "execution_count": 7,
   "metadata": {},
   "outputs": [
    {
     "data": {
      "text/plain": [
       "Text(0.5, 0, 'Ano')"
      ]
     },
     "execution_count": 7,
     "metadata": {},
     "output_type": "execute_result"
    },
    {
     "data": {
      "image/png": "[encoded data removed]",
      "text/plain": [
       "<Figure size 1600x900 with 1 Axes>"
      ]
     },
     "metadata": {},
     "output_type": "display_data"
    }
   ],
   "source": [
    "views_por_ano_sum = data[data[\"start_date\"]>1980].groupby(\"start_date\").agg({\n",
    "    \"num_list_users\":\"sum\"\n",
    "}).reset_index()\n",
    "\n",
    "views_por_ano_sum[\"num_list_users\"] /= 10**6\n",
    "\n",
    "figura, ax = plt.subplots(figsize=(16, 9))\n",
    "\n",
    "sns.despine(figura)\n",
    "\n",
    "sns.lineplot(x=\"start_date\",y=\"num_list_users\",data=views_por_ano_sum)\n",
    "sns.scatterplot(x=\"start_date\",y=\"num_list_users\",data=views_por_ano_sum)\n",
    "\n",
    "\n",
    "plt.ylabel('Total de animes daquele ano presente em listas em milhões')\n",
    "plt.xlabel('Ano')"
   ]
  },
  {
   "cell_type": "markdown",
   "metadata": {},
   "source": [
    "Nesse caso notamos uma queda vertiginosa na presença de animes de 2023 na lista, e tem uma tendencia de queda mesmo com pós pandemia. Algo que não parece tão propocional. Vamos avaliar a média pois levará em conta também a quantidade produzida"
   ]
  },
  {
   "cell_type": "code",
   "execution_count": 8,
   "metadata": {},
   "outputs": [
    {
     "data": {
      "text/plain": [
       "Text(0.5, 0, 'Ano')"
      ]
     },
     "execution_count": 8,
     "metadata": {},
     "output_type": "execute_result"
    },
    {
     "data": {
      "image/png": "[encoded data removed]",
      "text/plain": [
       "<Figure size 1600x900 with 1 Axes>"
      ]
     },
     "metadata": {},
     "output_type": "display_data"
    }
   ],
   "source": [
    "views_por_ano_mean = data[data[\"start_date\"]>1980].groupby(\"start_date\").agg({\n",
    "    \"num_list_users\":\"mean\",\n",
    "    \"mean\":\"mean\"\n",
    "}).reset_index()\n",
    "\n",
    "figura, ax = plt.subplots(figsize=(16, 9))\n",
    "\n",
    "sns.despine(figura)\n",
    "\n",
    "sns.lineplot(x=\"start_date\",y=\"num_list_users\",data=views_por_ano_mean)\n",
    "sns.scatterplot(x=\"start_date\",y=\"num_list_users\",data=views_por_ano_mean)\n",
    "\n",
    "\n",
    "plt.ylabel('Media de animes daquele ano presente em listas')\n",
    "plt.xlabel('Ano')"
   ]
  },
  {
   "cell_type": "markdown",
   "metadata": {},
   "source": [
    "Notamos que a média também caiu, e não só isso, segue em queda desde 2019. Afinal o que pode estar acontecendo? Vamos avaliar a qualidade dos animes"
   ]
  },
  {
   "cell_type": "code",
   "execution_count": 9,
   "metadata": {},
   "outputs": [
    {
     "data": {
      "text/plain": [
       "Text(0.5, 0, 'Ano')"
      ]
     },
     "execution_count": 9,
     "metadata": {},
     "output_type": "execute_result"
    },
    {
     "data": {
      "image/png": "[encoded data removed]",
      "text/plain": [
       "<Figure size 1600x900 with 1 Axes>"
      ]
     },
     "metadata": {},
     "output_type": "display_data"
    }
   ],
   "source": [
    "figura, ax = plt.subplots(figsize=(16, 9))\n",
    "\n",
    "sns.despine(figura)\n",
    "\n",
    "sns.lineplot(x=\"start_date\",y=\"mean\",data=views_por_ano_mean)\n",
    "sns.scatterplot(x=\"start_date\",y=\"mean\",data=views_por_ano_mean)\n",
    "\n",
    "\n",
    "plt.ylabel('Nota média dos animes')\n",
    "plt.xlabel('Ano')"
   ]
  },
  {
   "cell_type": "markdown",
   "metadata": {},
   "source": [
    "Como a nota aumentou vamos tentar avaliar outras coisas. Vamos avaliar os animes mais famosos daqueles anos para entender se eles também diminuem"
   ]
  },
  {
   "cell_type": "code",
   "execution_count": 10,
   "metadata": {},
   "outputs": [
    {
     "data": {
      "text/plain": [
       "Text(0.5, 0, 'Ano')"
      ]
     },
     "execution_count": 10,
     "metadata": {},
     "output_type": "execute_result"
    },
    {
     "data": {
      "image/png": "[encoded data removed]",
      "text/plain": [
       "<Figure size 1600x900 with 1 Axes>"
      ]
     },
     "metadata": {},
     "output_type": "display_data"
    }
   ],
   "source": [
    "top5_animes_por_ano = data[data[\"start_date\"]>1980].groupby(\"start_date\").apply(lambda x: x.nlargest(5, 'num_list_users')).reset_index(drop=True)\n",
    "\n",
    "medias_top5 = top5_animes_por_ano.groupby(\"start_date\").agg({\n",
    "    \"num_list_users\":\"sum\",\n",
    "    \"mean\": \"mean\"\n",
    "}).reset_index()\n",
    "\n",
    "\n",
    "medias_top5[\"num_list_users\"] /= 1e6\n",
    "figura, ax = plt.subplots(figsize=(16, 9))\n",
    "\n",
    "sns.despine(figura)\n",
    "\n",
    "sns.lineplot(x=\"start_date\",y=\"num_list_users\",data=medias_top5)\n",
    "sns.scatterplot(x=\"start_date\",y=\"num_list_users\",data=medias_top5)\n",
    "\n",
    "\n",
    "\n",
    "plt.ylabel('Médias de views por ano em milhões')\n",
    "plt.xlabel('Ano')"
   ]
  },
  {
   "cell_type": "markdown",
   "metadata": {},
   "source": [
    "Nesse caso vemos de fato uma queda também dos animes \"blockbusters\" e uma queda para os patamares de mais de 10 anos atrás. Vamos avaliar de 2000 para cá o que tem ocorrido. Vamos olhar quais são esses animes"
   ]
  },
  {
   "cell_type": "code",
   "execution_count": 11,
   "metadata": {},
   "outputs": [
    {
     "data": {
      "text/html": [
       "<div>\n",
       "<style scoped>\n",
       "    .dataframe tbody tr th:only-of-type {\n",
       "        vertical-align: middle;\n",
       "    }\n",
       "\n",
       "    .dataframe tbody tr th {\n",
       "        vertical-align: top;\n",
       "    }\n",
       "\n",
       "    .dataframe thead th {\n",
       "        text-align: right;\n",
       "    }\n",
       "</style>\n",
       "<table border=\"1\" class=\"dataframe\">\n",
       "  <thead>\n",
       "    <tr style=\"text-align: right;\">\n",
       "      <th>start_date</th>\n",
       "      <th>2010.0</th>\n",
       "      <th>2011.0</th>\n",
       "      <th>2012.0</th>\n",
       "      <th>2013.0</th>\n",
       "      <th>2014.0</th>\n",
       "      <th>2015.0</th>\n",
       "      <th>2016.0</th>\n",
       "      <th>2017.0</th>\n",
       "      <th>2018.0</th>\n",
       "      <th>2019.0</th>\n",
       "      <th>2020.0</th>\n",
       "      <th>2021.0</th>\n",
       "      <th>2022.0</th>\n",
       "      <th>2023.0</th>\n",
       "    </tr>\n",
       "    <tr>\n",
       "      <th>Posicao</th>\n",
       "      <th></th>\n",
       "      <th></th>\n",
       "      <th></th>\n",
       "      <th></th>\n",
       "      <th></th>\n",
       "      <th></th>\n",
       "      <th></th>\n",
       "      <th></th>\n",
       "      <th></th>\n",
       "      <th></th>\n",
       "      <th></th>\n",
       "      <th></th>\n",
       "      <th></th>\n",
       "      <th></th>\n",
       "    </tr>\n",
       "  </thead>\n",
       "  <tbody>\n",
       "    <tr>\n",
       "      <th>1</th>\n",
       "      <td>Angel Beats!</td>\n",
       "      <td>Hunter x Hunter (2011)</td>\n",
       "      <td>Sword Art Online</td>\n",
       "      <td>Shingeki no Kyojin</td>\n",
       "      <td>Tokyo Ghoul</td>\n",
       "      <td>One Punch Man</td>\n",
       "      <td>Boku no Hero Academia</td>\n",
       "      <td>Shingeki no Kyojin Season 2</td>\n",
       "      <td>Shingeki no Kyojin Season 3</td>\n",
       "      <td>Kimetsu no Yaiba</td>\n",
       "      <td>Jujutsu Kaisen</td>\n",
       "      <td>Kimetsu no Yaiba: Yuukaku-hen</td>\n",
       "      <td>Spy x Family</td>\n",
       "      <td>Kimetsu no Yaiba: Katanakaji no Sato-hen</td>\n",
       "    </tr>\n",
       "    <tr>\n",
       "      <th>2</th>\n",
       "      <td>Highschool of the Dead</td>\n",
       "      <td>Steins;Gate</td>\n",
       "      <td>Another</td>\n",
       "      <td>Kill la Kill</td>\n",
       "      <td>No Game No Life</td>\n",
       "      <td>Ansatsu Kyoushitsu</td>\n",
       "      <td>Kimi no Na wa.</td>\n",
       "      <td>Boku no Hero Academia 2nd Season</td>\n",
       "      <td>Boku no Hero Academia 3rd Season</td>\n",
       "      <td>Shingeki no Kyojin Season 3 Part 2</td>\n",
       "      <td>Shingeki no Kyojin: The Final Season</td>\n",
       "      <td>Horimiya</td>\n",
       "      <td>Chainsaw Man</td>\n",
       "      <td>\"Oshi no Ko\"</td>\n",
       "    </tr>\n",
       "    <tr>\n",
       "      <th>3</th>\n",
       "      <td>Durarara!!</td>\n",
       "      <td>Mirai Nikki (TV)</td>\n",
       "      <td>JoJo no Kimyou na Bouken (TV)</td>\n",
       "      <td>Hataraku Maou-sama!</td>\n",
       "      <td>Shigatsu wa Kimi no Uso</td>\n",
       "      <td>Tokyo Ghoul √A</td>\n",
       "      <td>Koe no Katachi</td>\n",
       "      <td>Black Clover</td>\n",
       "      <td>Violet Evergarden</td>\n",
       "      <td>Yakusoku no Neverland</td>\n",
       "      <td>Kimetsu no Yaiba Movie: Mugen Ressha-hen</td>\n",
       "      <td>Mushoku Tensei: Isekai Ittara Honki Dasu</td>\n",
       "      <td>Shingeki no Kyojin: The Final Season Part 2</td>\n",
       "      <td>Jujutsu Kaisen 2nd Season</td>\n",
       "    </tr>\n",
       "    <tr>\n",
       "      <th>4</th>\n",
       "      <td>Kaichou wa Maid-sama!</td>\n",
       "      <td>Ao no Exorcist</td>\n",
       "      <td>Psycho-Pass</td>\n",
       "      <td>Yahari Ore no Seishun Love Comedy wa Machigatt...</td>\n",
       "      <td>Noragami</td>\n",
       "      <td>Death Parade</td>\n",
       "      <td>Re:Zero kara Hajimeru Isekai Seikatsu</td>\n",
       "      <td>Kono Subarashii Sekai ni Shukufuku wo! 2</td>\n",
       "      <td>Seishun Buta Yarou wa Bunny Girl Senpai no Yum...</td>\n",
       "      <td>Kaguya-sama wa Kokurasetai: Tensai-tachi no Re...</td>\n",
       "      <td>Kaguya-sama wa Kokurasetai? Tensai-tachi no Re...</td>\n",
       "      <td>Tokyo Revengers</td>\n",
       "      <td>Sono Bisque Doll wa Koi wo Suru</td>\n",
       "      <td>Jigokuraku</td>\n",
       "    </tr>\n",
       "    <tr>\n",
       "      <th>5</th>\n",
       "      <td>K-On!!</td>\n",
       "      <td>Ano Hi Mita Hana no Namae wo Bokutachi wa Mada...</td>\n",
       "      <td>High School DxD</td>\n",
       "      <td>Kyoukai no Kanata</td>\n",
       "      <td>Akame ga Kill!</td>\n",
       "      <td>Shokugeki no Souma</td>\n",
       "      <td>Boku dake ga Inai Machi</td>\n",
       "      <td>Kakegurui</td>\n",
       "      <td>Darling in the FranXX</td>\n",
       "      <td>Dr. Stone</td>\n",
       "      <td>Re:Zero kara Hajimeru Isekai Seikatsu 2nd Season</td>\n",
       "      <td>Boku no Hero Academia 5th Season</td>\n",
       "      <td>Kaguya-sama wa Kokurasetai: Ultra Romantic</td>\n",
       "      <td>Shingeki no Kyojin: The Final Season - Kankets...</td>\n",
       "    </tr>\n",
       "  </tbody>\n",
       "</table>\n",
       "</div>"
      ],
      "text/plain": [
       "start_date                  2010.0  \\\n",
       "Posicao                              \n",
       "1                     Angel Beats!   \n",
       "2           Highschool of the Dead   \n",
       "3                       Durarara!!   \n",
       "4            Kaichou wa Maid-sama!   \n",
       "5                           K-On!!   \n",
       "\n",
       "start_date                                             2011.0  \\\n",
       "Posicao                                                         \n",
       "1                                      Hunter x Hunter (2011)   \n",
       "2                                                 Steins;Gate   \n",
       "3                                            Mirai Nikki (TV)   \n",
       "4                                              Ao no Exorcist   \n",
       "5           Ano Hi Mita Hana no Namae wo Bokutachi wa Mada...   \n",
       "\n",
       "start_date                         2012.0  \\\n",
       "Posicao                                     \n",
       "1                        Sword Art Online   \n",
       "2                                 Another   \n",
       "3           JoJo no Kimyou na Bouken (TV)   \n",
       "4                             Psycho-Pass   \n",
       "5                         High School DxD   \n",
       "\n",
       "start_date                                             2013.0  \\\n",
       "Posicao                                                         \n",
       "1                                          Shingeki no Kyojin   \n",
       "2                                                Kill la Kill   \n",
       "3                                         Hataraku Maou-sama!   \n",
       "4           Yahari Ore no Seishun Love Comedy wa Machigatt...   \n",
       "5                                           Kyoukai no Kanata   \n",
       "\n",
       "start_date                   2014.0              2015.0  \\\n",
       "Posicao                                                   \n",
       "1                       Tokyo Ghoul       One Punch Man   \n",
       "2                   No Game No Life  Ansatsu Kyoushitsu   \n",
       "3           Shigatsu wa Kimi no Uso      Tokyo Ghoul √A   \n",
       "4                          Noragami        Death Parade   \n",
       "5                    Akame ga Kill!  Shokugeki no Souma   \n",
       "\n",
       "start_date                                 2016.0  \\\n",
       "Posicao                                             \n",
       "1                           Boku no Hero Academia   \n",
       "2                                  Kimi no Na wa.   \n",
       "3                                  Koe no Katachi   \n",
       "4           Re:Zero kara Hajimeru Isekai Seikatsu   \n",
       "5                         Boku dake ga Inai Machi   \n",
       "\n",
       "start_date                                    2017.0  \\\n",
       "Posicao                                                \n",
       "1                        Shingeki no Kyojin Season 2   \n",
       "2                   Boku no Hero Academia 2nd Season   \n",
       "3                                       Black Clover   \n",
       "4           Kono Subarashii Sekai ni Shukufuku wo! 2   \n",
       "5                                          Kakegurui   \n",
       "\n",
       "start_date                                             2018.0  \\\n",
       "Posicao                                                         \n",
       "1                                 Shingeki no Kyojin Season 3   \n",
       "2                            Boku no Hero Academia 3rd Season   \n",
       "3                                           Violet Evergarden   \n",
       "4           Seishun Buta Yarou wa Bunny Girl Senpai no Yum...   \n",
       "5                                       Darling in the FranXX   \n",
       "\n",
       "start_date                                             2019.0  \\\n",
       "Posicao                                                         \n",
       "1                                            Kimetsu no Yaiba   \n",
       "2                          Shingeki no Kyojin Season 3 Part 2   \n",
       "3                                       Yakusoku no Neverland   \n",
       "4           Kaguya-sama wa Kokurasetai: Tensai-tachi no Re...   \n",
       "5                                                   Dr. Stone   \n",
       "\n",
       "start_date                                             2020.0  \\\n",
       "Posicao                                                         \n",
       "1                                              Jujutsu Kaisen   \n",
       "2                        Shingeki no Kyojin: The Final Season   \n",
       "3                    Kimetsu no Yaiba Movie: Mugen Ressha-hen   \n",
       "4           Kaguya-sama wa Kokurasetai? Tensai-tachi no Re...   \n",
       "5            Re:Zero kara Hajimeru Isekai Seikatsu 2nd Season   \n",
       "\n",
       "start_date                                    2021.0  \\\n",
       "Posicao                                                \n",
       "1                      Kimetsu no Yaiba: Yuukaku-hen   \n",
       "2                                           Horimiya   \n",
       "3           Mushoku Tensei: Isekai Ittara Honki Dasu   \n",
       "4                                    Tokyo Revengers   \n",
       "5                   Boku no Hero Academia 5th Season   \n",
       "\n",
       "start_date                                       2022.0  \\\n",
       "Posicao                                                   \n",
       "1                                          Spy x Family   \n",
       "2                                          Chainsaw Man   \n",
       "3           Shingeki no Kyojin: The Final Season Part 2   \n",
       "4                       Sono Bisque Doll wa Koi wo Suru   \n",
       "5            Kaguya-sama wa Kokurasetai: Ultra Romantic   \n",
       "\n",
       "start_date                                             2023.0  \n",
       "Posicao                                                        \n",
       "1                    Kimetsu no Yaiba: Katanakaji no Sato-hen  \n",
       "2                                                \"Oshi no Ko\"  \n",
       "3                                   Jujutsu Kaisen 2nd Season  \n",
       "4                                                  Jigokuraku  \n",
       "5           Shingeki no Kyojin: The Final Season - Kankets...  "
      ]
     },
     "execution_count": 11,
     "metadata": {},
     "output_type": "execute_result"
    }
   ],
   "source": [
    "top5_animes_por_ano['Posicao'] = top5_animes_por_ano.groupby('start_date').cumcount() + 1\n",
    "\n",
    "tabela_pivot = top5_animes_por_ano.pivot_table(index='Posicao', columns='start_date', values='title', aggfunc='first')\n",
    "\n",
    "tabela_pivot[[i for i in range(2010,2024)]]\n"
   ]
  },
  {
   "cell_type": "markdown",
   "metadata": {},
   "source": [
    "Existe algo curioso nessa tabela, o último pico antes da queda foi em 2019 onde tivemos o lançamento de Kimetsu no Yaiba, este e o no ano seguinte temos Jujutsu Kaisen. Porém nos como veremos nos anos seguir, assim como ocorreu com Shingeki no Kyojin, Kimetsu se manteve no topo, porém perdendo público e não tivemos uma nova série para *balançar*. "
   ]
  },
  {
   "cell_type": "code",
   "execution_count": 13,
   "metadata": {},
   "outputs": [
    {
     "data": {
      "application/vnd.plotly.v1+json": {
       "config": {
        "plotlyServerURL": "https://plot.ly"
       },
       "data": [
        {
         "customdata": [
          [
           "Dragon Ball Z Movie 05: Tobikkiri no Saikyou tai Saikyou"
          ],
          [
           "Yuu☆Yuu☆Hakusho"
          ],
          [
           "Slam Dunk"
          ],
          [
           "Bishoujo Senshi Sailor Moon S"
          ],
          [
           "Neon Genesis Evangelion"
          ],
          [
           "Dragon Ball GT"
          ],
          [
           "Mononoke Hime"
          ],
          [
           "Cowboy Bebop"
          ],
          [
           "One Piece"
          ],
          [
           "FLCL"
          ],
          [
           "Sen to Chihiro no Kamikakushi"
          ],
          [
           "Naruto"
          ],
          [
           "Fullmetal Alchemist"
          ],
          [
           "Bleach"
          ],
          [
           "Mushishi"
          ],
          [
           "Death Note"
          ],
          [
           "Naruto: Shippuuden"
          ],
          [
           "Toradora!"
          ],
          [
           "Fullmetal Alchemist: Brotherhood"
          ],
          [
           "Angel Beats!"
          ],
          [
           "Hunter x Hunter (2011)"
          ],
          [
           "Sword Art Online"
          ],
          [
           "Shingeki no Kyojin"
          ],
          [
           "Tokyo Ghoul"
          ],
          [
           "One Punch Man"
          ],
          [
           "Boku no Hero Academia"
          ],
          [
           "Shingeki no Kyojin Season 2"
          ],
          [
           "Shingeki no Kyojin Season 3"
          ],
          [
           "Kimetsu no Yaiba"
          ],
          [
           "Jujutsu Kaisen"
          ],
          [
           "Kimetsu no Yaiba: Yuukaku-hen"
          ],
          [
           "Spy x Family"
          ],
          [
           "Kimetsu no Yaiba: Katanakaji no Sato-hen"
          ]
         ],
         "hovertemplate": "start_date=%{x}<br>num_list_users=%{y}<br>title=%{customdata[0]}<extra></extra>",
         "legendgroup": "",
         "line": {
          "color": "#636efa",
          "dash": "solid"
         },
         "marker": {
          "symbol": "circle"
         },
         "mode": "lines",
         "name": "",
         "orientation": "v",
         "showlegend": false,
         "type": "scatter",
         "x": [
          1991,
          1992,
          1993,
          1994,
          1995,
          1996,
          1997,
          1998,
          1999,
          2000,
          2001,
          2002,
          2003,
          2004,
          2005,
          2006,
          2007,
          2008,
          2009,
          2010,
          2011,
          2012,
          2013,
          2014,
          2015,
          2016,
          2017,
          2018,
          2019,
          2020,
          2021,
          2022,
          2023
         ],
         "xaxis": "x",
         "y": [
          145680,
          668933,
          291547,
          144033,
          1764477,
          617565,
          1218714,
          1813656,
          2264028,
          803885,
          1802113,
          2777723,
          1445972,
          1908524,
          809369,
          3795011,
          2409312,
          2158044,
          3247266,
          2038514,
          2732106,
          3003860,
          3827933,
          2751837,
          3127160,
          2943331,
          2630433,
          2276083,
          2907846,
          2376151,
          1332783,
          1440662,
          711117
         ],
         "yaxis": "y"
        }
       ],
       "layout": {
        "legend": {
         "tracegroupgap": 0
        },
        "margin": {
         "t": 60
        },
        "template": {
         "data": {
          "bar": [
           {
            "error_x": {
             "color": "#2a3f5f"
            },
            "error_y": {
             "color": "#2a3f5f"
            },
            "marker": {
             "line": {
              "color": "#E5ECF6",
              "width": 0.5
             },
             "pattern": {
              "fillmode": "overlay",
              "size": 10,
              "solidity": 0.2
             }
            },
            "type": "bar"
           }
          ],
          "barpolar": [
           {
            "marker": {
             "line": {
              "color": "#E5ECF6",
              "width": 0.5
             },
             "pattern": {
              "fillmode": "overlay",
              "size": 10,
              "solidity": 0.2
             }
            },
            "type": "barpolar"
           }
          ],
          "carpet": [
           {
            "aaxis": {
             "endlinecolor": "#2a3f5f",
             "gridcolor": "white",
             "linecolor": "white",
             "minorgridcolor": "white",
             "startlinecolor": "#2a3f5f"
            },
            "baxis": {
             "endlinecolor": "#2a3f5f",
             "gridcolor": "white",
             "linecolor": "white",
             "minorgridcolor": "white",
             "startlinecolor": "#2a3f5f"
            },
            "type": "carpet"
           }
          ],
          "choropleth": [
           {
            "colorbar": {
             "outlinewidth": 0,
             "ticks": ""
            },
            "type": "choropleth"
           }
          ],
          "contour": [
           {
            "colorbar": {
             "outlinewidth": 0,
             "ticks": ""
            },
            "colorscale": [
             [
              0,
              "#0d0887"
             ],
             [
              0.1111111111111111,
              "#46039f"
             ],
             [
              0.2222222222222222,
              "#7201a8"
             ],
             [
              0.3333333333333333,
              "#9c179e"
             ],
             [
              0.4444444444444444,
              "#bd3786"
             ],
             [
              0.5555555555555556,
              "#d8576b"
             ],
             [
              0.6666666666666666,
              "#ed7953"
             ],
             [
              0.7777777777777778,
              "#fb9f3a"
             ],
             [
              0.8888888888888888,
              "#fdca26"
             ],
             [
              1,
              "#f0f921"
             ]
            ],
            "type": "contour"
           }
          ],
          "contourcarpet": [
           {
            "colorbar": {
             "outlinewidth": 0,
             "ticks": ""
            },
            "type": "contourcarpet"
           }
          ],
          "heatmap": [
           {
            "colorbar": {
             "outlinewidth": 0,
             "ticks": ""
            },
            "colorscale": [
             [
              0,
              "#0d0887"
             ],
             [
              0.1111111111111111,
              "#46039f"
             ],
             [
              0.2222222222222222,
              "#7201a8"
             ],
             [
              0.3333333333333333,
              "#9c179e"
             ],
             [
              0.4444444444444444,
              "#bd3786"
             ],
             [
              0.5555555555555556,
              "#d8576b"
             ],
             [
              0.6666666666666666,
              "#ed7953"
             ],
             [
              0.7777777777777778,
              "#fb9f3a"
             ],
             [
              0.8888888888888888,
              "#fdca26"
             ],
             [
              1,
              "#f0f921"
             ]
            ],
            "type": "heatmap"
           }
          ],
          "heatmapgl": [
           {
            "colorbar": {
             "outlinewidth": 0,
             "ticks": ""
            },
            "colorscale": [
             [
              0,
              "#0d0887"
             ],
             [
              0.1111111111111111,
              "#46039f"
             ],
             [
              0.2222222222222222,
              "#7201a8"
             ],
             [
              0.3333333333333333,
              "#9c179e"
             ],
             [
              0.4444444444444444,
              "#bd3786"
             ],
             [
              0.5555555555555556,
              "#d8576b"
             ],
             [
              0.6666666666666666,
              "#ed7953"
             ],
             [
              0.7777777777777778,
              "#fb9f3a"
             ],
             [
              0.8888888888888888,
              "#fdca26"
             ],
             [
              1,
              "#f0f921"
             ]
            ],
            "type": "heatmapgl"
           }
          ],
          "histogram": [
           {
            "marker": {
             "pattern": {
              "fillmode": "overlay",
              "size": 10,
              "solidity": 0.2
             }
            },
            "type": "histogram"
           }
          ],
          "histogram2d": [
           {
            "colorbar": {
             "outlinewidth": 0,
             "ticks": ""
            },
            "colorscale": [
             [
              0,
              "#0d0887"
             ],
             [
              0.1111111111111111,
              "#46039f"
             ],
             [
              0.2222222222222222,
              "#7201a8"
             ],
             [
              0.3333333333333333,
              "#9c179e"
             ],
             [
              0.4444444444444444,
              "#bd3786"
             ],
             [
              0.5555555555555556,
              "#d8576b"
             ],
             [
              0.6666666666666666,
              "#ed7953"
             ],
             [
              0.7777777777777778,
              "#fb9f3a"
             ],
             [
              0.8888888888888888,
              "#fdca26"
             ],
             [
              1,
              "#f0f921"
             ]
            ],
            "type": "histogram2d"
           }
          ],
          "histogram2dcontour": [
           {
            "colorbar": {
             "outlinewidth": 0,
             "ticks": ""
            },
            "colorscale": [
             [
              0,
              "#0d0887"
             ],
             [
              0.1111111111111111,
              "#46039f"
             ],
             [
              0.2222222222222222,
              "#7201a8"
             ],
             [
              0.3333333333333333,
              "#9c179e"
             ],
             [
              0.4444444444444444,
              "#bd3786"
             ],
             [
              0.5555555555555556,
              "#d8576b"
             ],
             [
              0.6666666666666666,
              "#ed7953"
             ],
             [
              0.7777777777777778,
              "#fb9f3a"
             ],
             [
              0.8888888888888888,
              "#fdca26"
             ],
             [
              1,
              "#f0f921"
             ]
            ],
            "type": "histogram2dcontour"
           }
          ],
          "mesh3d": [
           {
            "colorbar": {
             "outlinewidth": 0,
             "ticks": ""
            },
            "type": "mesh3d"
           }
          ],
          "parcoords": [
           {
            "line": {
             "colorbar": {
              "outlinewidth": 0,
              "ticks": ""
             }
            },
            "type": "parcoords"
           }
          ],
          "pie": [
           {
            "automargin": true,
            "type": "pie"
           }
          ],
          "scatter": [
           {
            "fillpattern": {
             "fillmode": "overlay",
             "size": 10,
             "solidity": 0.2
            },
            "type": "scatter"
           }
          ],
          "scatter3d": [
           {
            "line": {
             "colorbar": {
              "outlinewidth": 0,
              "ticks": ""
             }
            },
            "marker": {
             "colorbar": {
              "outlinewidth": 0,
              "ticks": ""
             }
            },
            "type": "scatter3d"
           }
          ],
          "scattercarpet": [
           {
            "marker": {
             "colorbar": {
              "outlinewidth": 0,
              "ticks": ""
             }
            },
            "type": "scattercarpet"
           }
          ],
          "scattergeo": [
           {
            "marker": {
             "colorbar": {
              "outlinewidth": 0,
              "ticks": ""
             }
            },
            "type": "scattergeo"
           }
          ],
          "scattergl": [
           {
            "marker": {
             "colorbar": {
              "outlinewidth": 0,
              "ticks": ""
             }
            },
            "type": "scattergl"
           }
          ],
          "scattermapbox": [
           {
            "marker": {
             "colorbar": {
              "outlinewidth": 0,
              "ticks": ""
             }
            },
            "type": "scattermapbox"
           }
          ],
          "scatterpolar": [
           {
            "marker": {
             "colorbar": {
              "outlinewidth": 0,
              "ticks": ""
             }
            },
            "type": "scatterpolar"
           }
          ],
          "scatterpolargl": [
           {
            "marker": {
             "colorbar": {
              "outlinewidth": 0,
              "ticks": ""
             }
            },
            "type": "scatterpolargl"
           }
          ],
          "scatterternary": [
           {
            "marker": {
             "colorbar": {
              "outlinewidth": 0,
              "ticks": ""
             }
            },
            "type": "scatterternary"
           }
          ],
          "surface": [
           {
            "colorbar": {
             "outlinewidth": 0,
             "ticks": ""
            },
            "colorscale": [
             [
              0,
              "#0d0887"
             ],
             [
              0.1111111111111111,
              "#46039f"
             ],
             [
              0.2222222222222222,
              "#7201a8"
             ],
             [
              0.3333333333333333,
              "#9c179e"
             ],
             [
              0.4444444444444444,
              "#bd3786"
             ],
             [
              0.5555555555555556,
              "#d8576b"
             ],
             [
              0.6666666666666666,
              "#ed7953"
             ],
             [
              0.7777777777777778,
              "#fb9f3a"
             ],
             [
              0.8888888888888888,
              "#fdca26"
             ],
             [
              1,
              "#f0f921"
             ]
            ],
            "type": "surface"
           }
          ],
          "table": [
           {
            "cells": {
             "fill": {
              "color": "#EBF0F8"
             },
             "line": {
              "color": "white"
             }
            },
            "header": {
             "fill": {
              "color": "#C8D4E3"
             },
             "line": {
              "color": "white"
             }
            },
            "type": "table"
           }
          ]
         },
         "layout": {
          "annotationdefaults": {
           "arrowcolor": "#2a3f5f",
           "arrowhead": 0,
           "arrowwidth": 1
          },
          "autotypenumbers": "strict",
          "coloraxis": {
           "colorbar": {
            "outlinewidth": 0,
            "ticks": ""
           }
          },
          "colorscale": {
           "diverging": [
            [
             0,
             "#8e0152"
            ],
            [
             0.1,
             "#c51b7d"
            ],
            [
             0.2,
             "#de77ae"
            ],
            [
             0.3,
             "#f1b6da"
            ],
            [
             0.4,
             "#fde0ef"
            ],
            [
             0.5,
             "#f7f7f7"
            ],
            [
             0.6,
             "#e6f5d0"
            ],
            [
             0.7,
             "#b8e186"
            ],
            [
             0.8,
             "#7fbc41"
            ],
            [
             0.9,
             "#4d9221"
            ],
            [
             1,
             "#276419"
            ]
           ],
           "sequential": [
            [
             0,
             "#0d0887"
            ],
            [
             0.1111111111111111,
             "#46039f"
            ],
            [
             0.2222222222222222,
             "#7201a8"
            ],
            [
             0.3333333333333333,
             "#9c179e"
            ],
            [
             0.4444444444444444,
             "#bd3786"
            ],
            [
             0.5555555555555556,
             "#d8576b"
            ],
            [
             0.6666666666666666,
             "#ed7953"
            ],
            [
             0.7777777777777778,
             "#fb9f3a"
            ],
            [
             0.8888888888888888,
             "#fdca26"
            ],
            [
             1,
             "#f0f921"
            ]
           ],
           "sequentialminus": [
            [
             0,
             "#0d0887"
            ],
            [
             0.1111111111111111,
             "#46039f"
            ],
            [
             0.2222222222222222,
             "#7201a8"
            ],
            [
             0.3333333333333333,
             "#9c179e"
            ],
            [
             0.4444444444444444,
             "#bd3786"
            ],
            [
             0.5555555555555556,
             "#d8576b"
            ],
            [
             0.6666666666666666,
             "#ed7953"
            ],
            [
             0.7777777777777778,
             "#fb9f3a"
            ],
            [
             0.8888888888888888,
             "#fdca26"
            ],
            [
             1,
             "#f0f921"
            ]
           ]
          },
          "colorway": [
           "#636efa",
           "#EF553B",
           "#00cc96",
           "#ab63fa",
           "#FFA15A",
           "#19d3f3",
           "#FF6692",
           "#B6E880",
           "#FF97FF",
           "#FECB52"
          ],
          "font": {
           "color": "#2a3f5f"
          },
          "geo": {
           "bgcolor": "white",
           "lakecolor": "white",
           "landcolor": "#E5ECF6",
           "showlakes": true,
           "showland": true,
           "subunitcolor": "white"
          },
          "hoverlabel": {
           "align": "left"
          },
          "hovermode": "closest",
          "mapbox": {
           "style": "light"
          },
          "paper_bgcolor": "white",
          "plot_bgcolor": "#E5ECF6",
          "polar": {
           "angularaxis": {
            "gridcolor": "white",
            "linecolor": "white",
            "ticks": ""
           },
           "bgcolor": "#E5ECF6",
           "radialaxis": {
            "gridcolor": "white",
            "linecolor": "white",
            "ticks": ""
           }
          },
          "scene": {
           "xaxis": {
            "backgroundcolor": "#E5ECF6",
            "gridcolor": "white",
            "gridwidth": 2,
            "linecolor": "white",
            "showbackground": true,
            "ticks": "",
            "zerolinecolor": "white"
           },
           "yaxis": {
            "backgroundcolor": "#E5ECF6",
            "gridcolor": "white",
            "gridwidth": 2,
            "linecolor": "white",
            "showbackground": true,
            "ticks": "",
            "zerolinecolor": "white"
           },
           "zaxis": {
            "backgroundcolor": "#E5ECF6",
            "gridcolor": "white",
            "gridwidth": 2,
            "linecolor": "white",
            "showbackground": true,
            "ticks": "",
            "zerolinecolor": "white"
           }
          },
          "shapedefaults": {
           "line": {
            "color": "#2a3f5f"
           }
          },
          "ternary": {
           "aaxis": {
            "gridcolor": "white",
            "linecolor": "white",
            "ticks": ""
           },
           "baxis": {
            "gridcolor": "white",
            "linecolor": "white",
            "ticks": ""
           },
           "bgcolor": "#E5ECF6",
           "caxis": {
            "gridcolor": "white",
            "linecolor": "white",
            "ticks": ""
           }
          },
          "title": {
           "x": 0.05
          },
          "xaxis": {
           "automargin": true,
           "gridcolor": "white",
           "linecolor": "white",
           "ticks": "",
           "title": {
            "standoff": 15
           },
           "zerolinecolor": "white",
           "zerolinewidth": 2
          },
          "yaxis": {
           "automargin": true,
           "gridcolor": "white",
           "linecolor": "white",
           "ticks": "",
           "title": {
            "standoff": 15
           },
           "zerolinecolor": "white",
           "zerolinewidth": 2
          }
         }
        },
        "title": {
         "text": "Gráfico de Linha"
        },
        "xaxis": {
         "anchor": "y",
         "domain": [
          0,
          1
         ],
         "title": {
          "text": "Ano de Início"
         }
        },
        "yaxis": {
         "anchor": "x",
         "domain": [
          0,
          1
         ],
         "title": {
          "text": "Número de Usuários"
         }
        }
       }
      }
     },
     "metadata": {},
     "output_type": "display_data"
    }
   ],
   "source": [
    "max_views_tempo_filtro = data[data[\"start_date\"]>1990].groupby(\"start_date\")[\"num_list_users\"].idxmax()\n",
    "\n",
    "max_views_tempo= data.loc[max_views_tempo_filtro]\n",
    "\n",
    "\n",
    "import plotly.express as px\n",
    "fig = px.line(x=\"start_date\", y=\"num_list_users\",\n",
    "               data_frame=max_views_tempo, hover_data=[\"title\"])\n",
    "\n",
    "\n",
    "fig.update_layout(\n",
    "    xaxis_title=\"Ano de Início\",  \n",
    "    yaxis_title=\"Número de Usuários\",  \n",
    "    title=\"Gráfico de Linha\" \n",
    ")"
   ]
  },
  {
   "cell_type": "markdown",
   "metadata": {},
   "source": [
    "Note que é quase o mesmo movimento de 2013 a 2018 e 2019 a 2023. A diferença é que One Punch Man deu um respiro para essa curva"
   ]
  },
  {
   "cell_type": "markdown",
   "metadata": {},
   "source": [
    "## Coisas a fazer na analise\n",
    "\n",
    "Daqui para baixo são apenas testes e coisas, sem explicações e ou contextos. Ainda existe necessidade de avaliar:\n",
    "\n",
    "- Influencia de classificação indicativa no público\n",
    "- Influencia do gênero ainda parece inconclusivo (análise bagunçada que tem abaixo)\n",
    "- Avaliar influencia também de estudios\n",
    "\n",
    "Note que boa parte disso daria para avaliar de uma vez só usando uma regressão, onde os parâmetros de cada categoria seria a influencia do fator. Porém existe diversas suposições e cuidados, portanto continuarei depois.\n"
   ]
  },
  {
   "cell_type": "code",
   "execution_count": 31,
   "metadata": {},
   "outputs": [
    {
     "data": {
      "text/plain": [
       "<Axes: >"
      ]
     },
     "execution_count": 31,
     "metadata": {},
     "output_type": "execute_result"
    },
    {
     "data": {
      "image/png": "[encoded data removed]",
      "text/plain": [
       "<Figure size 640x480 with 1 Axes>"
      ]
     },
     "metadata": {},
     "output_type": "display_data"
    }
   ],
   "source": [
    "freq_gen = top5_animes_por_ano[top5_animes_por_ano[\"start_date\"] > 2000].explode(\"genres\")\n",
    "genres_cont = freq_gen[\"genres\"].value_counts(ascending=True)\n",
    "genres_cont.tail(20).plot(kind=\"barh\")"
   ]
  },
  {
   "cell_type": "code",
   "execution_count": 35,
   "metadata": {},
   "outputs": [
    {
     "data": {
      "text/plain": [
       "Text(0.5, 0, 'Genero')"
      ]
     },
     "execution_count": 35,
     "metadata": {},
     "output_type": "execute_result"
    },
    {
     "data": {
      "image/png": "[encoded data removed]",
      "text/plain": [
       "<Figure size 1600x900 with 1 Axes>"
      ]
     },
     "metadata": {},
     "output_type": "display_data"
    }
   ],
   "source": [
    "filtro_genres = genres_cont.index[-20:]\n",
    "top20_genres = freq_gen[freq_gen[\"genres\"].isin(filtro_genres)]\n",
    "\n",
    "top20_genres = freq_gen.groupby([\"genres\"]).agg({\n",
    "    \"num_list_users\":\"mean\",\n",
    "}).reset_index().sort_values(\"num_list_users\",ascending=False)[0:20]\n",
    "\n",
    "top20_genres[\"num_list_users\"] /= 1e6\n",
    "\n",
    "figura, ax = plt.subplots(figsize=(16, 9))\n",
    "\n",
    "\n",
    "sns.barplot(x=\"genres\",y=\"num_list_users\",data=top20_genres)\n",
    "\n",
    "plt.xticks(rotation=45, ha='right')\n",
    "plt.ylabel('Views por ano em milhões')\n",
    "plt.xlabel('Genero')\n"
   ]
  },
  {
   "cell_type": "code",
   "execution_count": 62,
   "metadata": {},
   "outputs": [
    {
     "data": {
      "application/vnd.plotly.v1+json": {
       "config": {
        "plotlyServerURL": "https://plot.ly"
       },
       "data": [
        {
         "customdata": [
          [
           27
          ],
          [
           29
          ],
          [
           33
          ],
          [
           41
          ],
          [
           39
          ],
          [
           36
          ],
          [
           45
          ],
          [
           47
          ],
          [
           58
          ],
          [
           37
          ],
          [
           45
          ],
          [
           65
          ],
          [
           68
          ],
          [
           77
          ],
          [
           62
          ],
          [
           92
          ],
          [
           95
          ],
          [
           107
          ],
          [
           95
          ],
          [
           101
          ],
          [
           121
          ],
          [
           122
          ],
          [
           117
          ],
          [
           129
          ],
          [
           148
          ],
          [
           153
          ],
          [
           144
          ],
          [
           174
          ],
          [
           161
          ],
          [
           148
          ],
          [
           163
          ],
          [
           168
          ],
          [
           151
          ]
         ],
         "hovertemplate": "genres=Action<br>start_date=%{x}<br>num_list_users=%{y}<br>title=%{customdata[0]}<extra></extra>",
         "legendgroup": "Action",
         "line": {
          "color": "#636efa",
          "dash": "solid"
         },
         "marker": {
          "symbol": "circle"
         },
         "mode": "lines",
         "name": "Action",
         "orientation": "v",
         "showlegend": true,
         "type": "scatter",
         "x": [
          1991,
          1992,
          1993,
          1994,
          1995,
          1996,
          1997,
          1998,
          1999,
          2000,
          2001,
          2002,
          2003,
          2004,
          2005,
          2006,
          2007,
          2008,
          2009,
          2010,
          2011,
          2012,
          2013,
          2014,
          2015,
          2016,
          2017,
          2018,
          2019,
          2020,
          2021,
          2022,
          2023
         ],
         "xaxis": "x",
         "y": [
          16038.037037037036,
          50322.65517241379,
          22558.303030303032,
          15631.365853658537,
          84169.46153846153,
          45269.083333333336,
          68384.75555555556,
          88388.4255319149,
          78833.24137931035,
          89834.64864864865,
          61346.555555555555,
          90815.61538461539,
          76421.92647058824,
          112509.50649350649,
          75534.08064516129,
          131039.14130434782,
          142147.65263157894,
          114561.71962616823,
          145784.25263157894,
          115433.88118811882,
          176664.3305785124,
          190636.76229508198,
          188143.10256410256,
          255493.46511627908,
          239361.67567567568,
          184280.49673202613,
          157829.32638888888,
          171773.86781609195,
          178018.29192546583,
          134491.87837837837,
          125216.06748466258,
          105727.10119047618,
          81725.41721854305
         ],
         "yaxis": "y"
        },
        {
         "customdata": [
          [
           31
          ],
          [
           41
          ],
          [
           28
          ],
          [
           36
          ],
          [
           39
          ],
          [
           52
          ],
          [
           53
          ],
          [
           52
          ],
          [
           65
          ],
          [
           46
          ],
          [
           61
          ],
          [
           63
          ],
          [
           70
          ],
          [
           68
          ],
          [
           55
          ],
          [
           70
          ],
          [
           70
          ],
          [
           63
          ],
          [
           59
          ],
          [
           48
          ],
          [
           49
          ],
          [
           54
          ],
          [
           50
          ],
          [
           57
          ],
          [
           53
          ],
          [
           66
          ],
          [
           66
          ],
          [
           72
          ],
          [
           80
          ],
          [
           78
          ],
          [
           85
          ],
          [
           105
          ],
          [
           84
          ]
         ],
         "hovertemplate": "genres=Adventure<br>start_date=%{x}<br>num_list_users=%{y}<br>title=%{customdata[0]}<extra></extra>",
         "legendgroup": "Adventure",
         "line": {
          "color": "#EF553B",
          "dash": "solid"
         },
         "marker": {
          "symbol": "circle"
         },
         "mode": "lines",
         "name": "Adventure",
         "orientation": "v",
         "showlegend": true,
         "type": "scatter",
         "x": [
          1991,
          1992,
          1993,
          1994,
          1995,
          1996,
          1997,
          1998,
          1999,
          2000,
          2001,
          2002,
          2003,
          2004,
          2005,
          2006,
          2007,
          2008,
          2009,
          2010,
          2011,
          2012,
          2013,
          2014,
          2015,
          2016,
          2017,
          2018,
          2019,
          2020,
          2021,
          2022,
          2023
         ],
         "xaxis": "x",
         "y": [
          15225.193548387097,
          18037.731707317074,
          28223.89285714286,
          15048.361111111111,
          33798.333333333336,
          35608.75,
          58057.735849056604,
          42988.92307692308,
          67107.13846153846,
          56933.413043478264,
          62554.934426229505,
          81738.20634920635,
          60500.31428571429,
          96025,
          65207.34545454545,
          56450.47142857143,
          114059.08571428571,
          70788.53968253969,
          154362.08474576272,
          52363.166666666664,
          98278.12244897959,
          168880.44444444444,
          112939.2,
          214188.57894736843,
          182988.24528301886,
          140321.60606060605,
          144298.0303030303,
          187071.13888888888,
          170162.025,
          93722.1282051282,
          147320.58823529413,
          76195.5142857143,
          78950.82142857143
         ],
         "yaxis": "y"
        },
        {
         "customdata": [
          [
           2
          ],
          [
           2
          ],
          [
           2
          ],
          [
           2
          ],
          [
           4
          ],
          [
           1
          ],
          [
           3
          ],
          [
           9
          ],
          [
           4
          ],
          [
           5
          ],
          [
           4
          ],
          [
           10
          ],
          [
           6
          ],
          [
           7
          ],
          [
           5
          ],
          [
           6
          ],
          [
           5
          ],
          [
           7
          ],
          [
           6
          ],
          [
           5
          ],
          [
           8
          ],
          [
           8
          ],
          [
           9
          ],
          [
           8
          ],
          [
           6
          ],
          [
           6
          ],
          [
           3
          ],
          [
           7
          ],
          [
           5
          ],
          [
           6
          ],
          [
           8
          ],
          [
           4
          ]
         ],
         "hovertemplate": "genres=Award Winning<br>start_date=%{x}<br>num_list_users=%{y}<br>title=%{customdata[0]}<extra></extra>",
         "legendgroup": "Award Winning",
         "line": {
          "color": "#00cc96",
          "dash": "solid"
         },
         "marker": {
          "symbol": "circle"
         },
         "mode": "lines",
         "name": "Award Winning",
         "orientation": "v",
         "showlegend": true,
         "type": "scatter",
         "x": [
          1991,
          1992,
          1993,
          1994,
          1995,
          1996,
          1997,
          1998,
          1999,
          2000,
          2001,
          2002,
          2003,
          2004,
          2005,
          2006,
          2007,
          2008,
          2009,
          2010,
          2011,
          2012,
          2013,
          2014,
          2015,
          2016,
          2017,
          2018,
          2019,
          2020,
          2021,
          2022
         ],
         "xaxis": "x",
         "y": [
          21260.5,
          124201.5,
          19903.5,
          64140,
          629826.5,
          13177,
          493233,
          324863.6666666667,
          58992.25,
          80982,
          485521.5,
          139852.1,
          332503.8333333333,
          296131.5714285714,
          81156.2,
          768477.8333333334,
          462422.2,
          391585.28571428574,
          234967.33333333334,
          450522.2,
          370032.375,
          186961.5,
          671618.2222222222,
          189079.25,
          65839.83333333333,
          1013692,
          44406,
          151905.2857142857,
          854076.8,
          619259.6666666666,
          144402.375,
          411709.75
         ],
         "yaxis": "y"
        },
        {
         "customdata": [
          [
           40
          ],
          [
           39
          ],
          [
           45
          ],
          [
           40
          ],
          [
           53
          ],
          [
           55
          ],
          [
           57
          ],
          [
           60
          ],
          [
           75
          ],
          [
           58
          ],
          [
           78
          ],
          [
           96
          ],
          [
           86
          ],
          [
           102
          ],
          [
           99
          ],
          [
           138
          ],
          [
           114
          ],
          [
           133
          ],
          [
           140
          ],
          [
           140
          ],
          [
           158
          ],
          [
           173
          ],
          [
           172
          ],
          [
           195
          ],
          [
           167
          ],
          [
           174
          ],
          [
           156
          ],
          [
           158
          ],
          [
           145
          ],
          [
           124
          ],
          [
           135
          ],
          [
           135
          ],
          [
           116
          ]
         ],
         "hovertemplate": "genres=Comedy<br>start_date=%{x}<br>num_list_users=%{y}<br>title=%{customdata[0]}<extra></extra>",
         "legendgroup": "Comedy",
         "line": {
          "color": "#ab63fa",
          "dash": "solid"
         },
         "marker": {
          "symbol": "circle"
         },
         "mode": "lines",
         "name": "Comedy",
         "orientation": "v",
         "showlegend": true,
         "type": "scatter",
         "x": [
          1991,
          1992,
          1993,
          1994,
          1995,
          1996,
          1997,
          1998,
          1999,
          2000,
          2001,
          2002,
          2003,
          2004,
          2005,
          2006,
          2007,
          2008,
          2009,
          2010,
          2011,
          2012,
          2013,
          2014,
          2015,
          2016,
          2017,
          2018,
          2019,
          2020,
          2021,
          2022,
          2023
         ],
         "xaxis": "x",
         "y": [
          9483.55,
          20559.79487179487,
          14821.377777777778,
          17494.475,
          24933.943396226416,
          40514.94545454546,
          21860.57894736842,
          30130.516666666666,
          33251.68,
          43740.1724137931,
          24269.30769230769,
          36085.697916666664,
          34745.12790697674,
          52265.950980392154,
          31639.424242424244,
          67175.45652173914,
          55993.84210526316,
          76362.87969924812,
          58968.37857142857,
          108299.71428571429,
          95912.67721518988,
          110196.50867052023,
          116336.12790697675,
          105041.9641025641,
          148200.17365269462,
          107366.85057471265,
          115346.48717948717,
          87053.1329113924,
          127676.95172413794,
          83158.8870967742,
          107645.74074074074,
          101937.88148148148,
          73495.78448275862
         ],
         "yaxis": "y"
        },
        {
         "customdata": [
          [
           23
          ],
          [
           25
          ],
          [
           25
          ],
          [
           22
          ],
          [
           24
          ],
          [
           28
          ],
          [
           20
          ],
          [
           33
          ],
          [
           35
          ],
          [
           26
          ],
          [
           52
          ],
          [
           52
          ],
          [
           57
          ],
          [
           75
          ],
          [
           78
          ],
          [
           74
          ],
          [
           70
          ],
          [
           49
          ],
          [
           45
          ],
          [
           33
          ],
          [
           52
          ],
          [
           55
          ],
          [
           43
          ],
          [
           44
          ],
          [
           54
          ],
          [
           64
          ],
          [
           71
          ],
          [
           84
          ],
          [
           68
          ],
          [
           59
          ],
          [
           85
          ],
          [
           45
          ],
          [
           50
          ]
         ],
         "hovertemplate": "genres=Drama<br>start_date=%{x}<br>num_list_users=%{y}<br>title=%{customdata[0]}<extra></extra>",
         "legendgroup": "Drama",
         "line": {
          "color": "#FFA15A",
          "dash": "solid"
         },
         "marker": {
          "symbol": "circle"
         },
         "mode": "lines",
         "name": "Drama",
         "orientation": "v",
         "showlegend": true,
         "type": "scatter",
         "x": [
          1991,
          1992,
          1993,
          1994,
          1995,
          1996,
          1997,
          1998,
          1999,
          2000,
          2001,
          2002,
          2003,
          2004,
          2005,
          2006,
          2007,
          2008,
          2009,
          2010,
          2011,
          2012,
          2013,
          2014,
          2015,
          2016,
          2017,
          2018,
          2019,
          2020,
          2021,
          2022,
          2023
         ],
         "xaxis": "x",
         "y": [
          18557.17391304348,
          16785.16,
          28106.76,
          20243.863636363636,
          111112.75,
          20551.14285714286,
          112916.9,
          86016.30303030302,
          35753,
          50988.653846153844,
          38362.67307692308,
          60730.82692307692,
          83338.73684210527,
          107559.90666666666,
          69808.48717948717,
          101674.77027027027,
          90804.18571428572,
          208666.14285714287,
          171990.02222222224,
          138401.0909090909,
          233631.03846153847,
          168680.8,
          260306.3488372093,
          129050.72727272728,
          213895.72222222222,
          260884.03125,
          214245.88732394367,
          216742.72619047618,
          230750.07352941178,
          159150.59322033898,
          169615.6,
          107780.48888888888,
          109906.92
         ],
         "yaxis": "y"
        },
        {
         "customdata": [
          [
           25
          ],
          [
           32
          ],
          [
           30
          ],
          [
           25
          ],
          [
           39
          ],
          [
           33
          ],
          [
           32
          ],
          [
           31
          ],
          [
           39
          ],
          [
           35
          ],
          [
           45
          ],
          [
           49
          ],
          [
           46
          ],
          [
           49
          ],
          [
           63
          ],
          [
           88
          ],
          [
           83
          ],
          [
           72
          ],
          [
           69
          ],
          [
           61
          ],
          [
           80
          ],
          [
           84
          ],
          [
           103
          ],
          [
           109
          ],
          [
           112
          ],
          [
           125
          ],
          [
           142
          ],
          [
           118
          ],
          [
           128
          ],
          [
           139
          ],
          [
           174
          ],
          [
           176
          ],
          [
           168
          ]
         ],
         "hovertemplate": "genres=Fantasy<br>start_date=%{x}<br>num_list_users=%{y}<br>title=%{customdata[0]}<extra></extra>",
         "legendgroup": "Fantasy",
         "line": {
          "color": "#19d3f3",
          "dash": "solid"
         },
         "marker": {
          "symbol": "circle"
         },
         "mode": "lines",
         "name": "Fantasy",
         "orientation": "v",
         "showlegend": true,
         "type": "scatter",
         "x": [
          1991,
          1992,
          1993,
          1994,
          1995,
          1996,
          1997,
          1998,
          1999,
          2000,
          2001,
          2002,
          2003,
          2004,
          2005,
          2006,
          2007,
          2008,
          2009,
          2010,
          2011,
          2012,
          2013,
          2014,
          2015,
          2016,
          2017,
          2018,
          2019,
          2020,
          2021,
          2022,
          2023
         ],
         "xaxis": "x",
         "y": [
          15895.24,
          45387.34375,
          28231.233333333334,
          20853.44,
          23469.897435897437,
          38066.72727272727,
          92731.125,
          41205.22580645161,
          108244.56410256411,
          72747.6,
          26144.155555555557,
          112032.63265306123,
          81956.06521739131,
          113755.16326530612,
          55346.76190476191,
          66135.26136363637,
          87412.04819277108,
          124726.20833333333,
          167084.07246376813,
          79578.14754098361,
          145445.8375,
          193074.61904761905,
          165043.21359223302,
          253421.6972477064,
          217425.00892857142,
          134740.256,
          160309.31690140846,
          157566.9661016949,
          170620.609375,
          142936.0071942446,
          126511.35632183908,
          78313.76704545454,
          80281.625
         ],
         "yaxis": "y"
        },
        {
         "customdata": [
          [
           2
          ],
          [
           1
          ],
          [
           1
          ],
          [
           3
          ],
          [
           2
          ],
          [
           1
          ],
          [
           1
          ],
          [
           2
          ],
          [
           3
          ],
          [
           1
          ],
          [
           4
          ],
          [
           5
          ],
          [
           7
          ],
          [
           5
          ],
          [
           10
          ],
          [
           5
          ],
          [
           4
          ],
          [
           5
          ],
          [
           6
          ],
          [
           9
          ],
          [
           8
          ],
          [
           10
          ],
          [
           6
          ],
          [
           13
          ],
          [
           9
          ],
          [
           15
          ],
          [
           11
          ],
          [
           8
          ],
          [
           4
          ],
          [
           7
          ],
          [
           10
          ]
         ],
         "hovertemplate": "genres=Gore<br>start_date=%{x}<br>num_list_users=%{y}<br>title=%{customdata[0]}<extra></extra>",
         "legendgroup": "Gore",
         "line": {
          "color": "#FF6692",
          "dash": "solid"
         },
         "marker": {
          "symbol": "circle"
         },
         "mode": "lines",
         "name": "Gore",
         "orientation": "v",
         "showlegend": true,
         "type": "scatter",
         "x": [
          1991,
          1992,
          1993,
          1994,
          1995,
          1997,
          1999,
          2000,
          2001,
          2002,
          2003,
          2004,
          2005,
          2006,
          2007,
          2008,
          2009,
          2010,
          2011,
          2012,
          2013,
          2014,
          2015,
          2016,
          2017,
          2018,
          2019,
          2020,
          2021,
          2022,
          2023
         ],
         "xaxis": "x",
         "y": [
          18201,
          42601,
          137185,
          8750.666666666666,
          14667,
          631387,
          79707,
          66401,
          311769.3333333333,
          11327,
          65810.5,
          432313.2,
          163426.57142857142,
          361908.4,
          221077.7,
          122548.2,
          146946.25,
          501693,
          642499.5,
          362938.77777777775,
          653075.25,
          762471.1,
          414228.1666666667,
          236758.3076923077,
          592688.5555555555,
          560311.1333333333,
          436045.1818181818,
          513163.875,
          186504,
          540119.4285714285,
          217382.1
         ],
         "yaxis": "y"
        },
        {
         "customdata": [
          [
           10
          ],
          [
           9
          ],
          [
           12
          ],
          [
           7
          ],
          [
           7
          ],
          [
           10
          ],
          [
           10
          ],
          [
           3
          ],
          [
           7
          ],
          [
           8
          ],
          [
           13
          ],
          [
           12
          ],
          [
           12
          ],
          [
           18
          ],
          [
           19
          ],
          [
           13
          ],
          [
           23
          ],
          [
           19
          ],
          [
           19
          ],
          [
           30
          ],
          [
           27
          ],
          [
           27
          ],
          [
           15
          ],
          [
           22
          ],
          [
           20
          ],
          [
           31
          ],
          [
           35
          ],
          [
           39
          ],
          [
           28
          ],
          [
           34
          ],
          [
           49
          ],
          [
           36
          ],
          [
           36
          ]
         ],
         "hovertemplate": "genres=Historical<br>start_date=%{x}<br>num_list_users=%{y}<br>title=%{customdata[0]}<extra></extra>",
         "legendgroup": "Historical",
         "line": {
          "color": "#B6E880",
          "dash": "solid"
         },
         "marker": {
          "symbol": "circle"
         },
         "mode": "lines",
         "name": "Historical",
         "orientation": "v",
         "showlegend": true,
         "type": "scatter",
         "x": [
          1991,
          1992,
          1993,
          1994,
          1995,
          1996,
          1997,
          1998,
          1999,
          2000,
          2001,
          2002,
          2003,
          2004,
          2005,
          2006,
          2007,
          2008,
          2009,
          2010,
          2011,
          2012,
          2013,
          2014,
          2015,
          2016,
          2017,
          2018,
          2019,
          2020,
          2021,
          2022,
          2023
         ],
         "xaxis": "x",
         "y": [
          10132.6,
          29046.333333333332,
          14625.833333333334,
          1064,
          26589.428571428572,
          55827,
          11535.5,
          17357,
          47953.857142857145,
          104868.375,
          20651.153846153848,
          35406.166666666664,
          43581.166666666664,
          93919.44444444444,
          80858.47368421052,
          108091.07692307692,
          89103.26086956522,
          101072.73684210527,
          65215.21052631579,
          85319.2,
          68501.74074074074,
          121428.81481481482,
          91208.66666666667,
          76894.27272727272,
          102122.5,
          113013.6129032258,
          54905.54285714286,
          48261.230769230766,
          214857.9642857143,
          84964.08823529411,
          82229.75510204081,
          27468.833333333332,
          75957.19444444444
         ],
         "yaxis": "y"
        },
        {
         "customdata": [
          [
           3
          ],
          [
           5
          ],
          [
           7
          ],
          [
           8
          ],
          [
           5
          ],
          [
           6
          ],
          [
           5
          ],
          [
           7
          ],
          [
           8
          ],
          [
           6
          ],
          [
           8
          ],
          [
           14
          ],
          [
           8
          ],
          [
           18
          ],
          [
           21
          ],
          [
           23
          ],
          [
           13
          ],
          [
           13
          ],
          [
           17
          ],
          [
           20
          ],
          [
           14
          ],
          [
           18
          ],
          [
           15
          ],
          [
           12
          ],
          [
           22
          ],
          [
           21
          ],
          [
           21
          ],
          [
           26
          ],
          [
           27
          ],
          [
           17
          ],
          [
           24
          ],
          [
           16
          ],
          [
           3
          ]
         ],
         "hovertemplate": "genres=Military<br>start_date=%{x}<br>num_list_users=%{y}<br>title=%{customdata[0]}<extra></extra>",
         "legendgroup": "Military",
         "line": {
          "color": "#FF97FF",
          "dash": "solid"
         },
         "marker": {
          "symbol": "circle"
         },
         "mode": "lines",
         "name": "Military",
         "orientation": "v",
         "showlegend": true,
         "type": "scatter",
         "x": [
          1991,
          1992,
          1993,
          1994,
          1995,
          1996,
          1997,
          1998,
          1999,
          2000,
          2001,
          2002,
          2003,
          2004,
          2005,
          2006,
          2007,
          2008,
          2009,
          2010,
          2011,
          2012,
          2013,
          2014,
          2015,
          2016,
          2017,
          2018,
          2019,
          2020,
          2021,
          2022,
          2023
         ],
         "xaxis": "x",
         "y": [
          25992.666666666668,
          58516,
          23793.85714285714,
          15318.375,
          61725.4,
          27787.833333333332,
          136454.2,
          31372.571428571428,
          52316,
          44914.5,
          16852.125,
          90937.42857142857,
          212053,
          59368.666666666664,
          56257.76190476191,
          155190.60869565216,
          41273.53846153846,
          201882.76923076922,
          249106.29411764705,
          43405.6,
          55914.71428571428,
          103560.38888888889,
          324348.4,
          107730.91666666667,
          239044.5,
          142335.42857142858,
          202438.47619047618,
          169715.76923076922,
          131216.77777777778,
          181029.17647058822,
          92112.45833333333,
          119348.625,
          181624
         ],
         "yaxis": "y"
        },
        {
         "customdata": [
          [
           7
          ],
          [
           4
          ],
          [
           5
          ],
          [
           5
          ],
          [
           5
          ],
          [
           7
          ],
          [
           7
          ],
          [
           9
          ],
          [
           12
          ],
          [
           11
          ],
          [
           10
          ],
          [
           15
          ],
          [
           18
          ],
          [
           19
          ],
          [
           17
          ],
          [
           24
          ],
          [
           26
          ],
          [
           28
          ],
          [
           25
          ],
          [
           18
          ],
          [
           28
          ],
          [
           29
          ],
          [
           18
          ],
          [
           31
          ],
          [
           30
          ],
          [
           39
          ],
          [
           36
          ],
          [
           31
          ],
          [
           32
          ],
          [
           29
          ],
          [
           40
          ],
          [
           29
          ],
          [
           25
          ]
         ],
         "hovertemplate": "genres=Mystery<br>start_date=%{x}<br>num_list_users=%{y}<br>title=%{customdata[0]}<extra></extra>",
         "legendgroup": "Mystery",
         "line": {
          "color": "#FECB52",
          "dash": "solid"
         },
         "marker": {
          "symbol": "circle"
         },
         "mode": "lines",
         "name": "Mystery",
         "orientation": "v",
         "showlegend": true,
         "type": "scatter",
         "x": [
          1991,
          1992,
          1993,
          1994,
          1995,
          1996,
          1997,
          1998,
          1999,
          2000,
          2001,
          2002,
          2003,
          2004,
          2005,
          2006,
          2007,
          2008,
          2009,
          2010,
          2011,
          2012,
          2013,
          2014,
          2015,
          2016,
          2017,
          2018,
          2019,
          2020,
          2021,
          2022,
          2023
         ],
         "xaxis": "x",
         "y": [
          6379.857142857143,
          7756.75,
          18938,
          10783.6,
          133092,
          58854.71428571428,
          49956,
          100356.22222222222,
          28440.666666666668,
          39551.545454545456,
          38182.5,
          104435.53333333334,
          43096.77777777778,
          126573.21052631579,
          119766.64705882352,
          172550.16666666666,
          165013.76923076922,
          157885.42857142858,
          197497.88,
          222798.83333333334,
          128855,
          309328.4827586207,
          193026.88888888888,
          205573.61290322582,
          151637.76666666666,
          224711.61538461538,
          174914.30555555556,
          68949.51612903226,
          177990.40625,
          190679.2068965517,
          124694.55,
          67576,
          72866.48
         ],
         "yaxis": "y"
        },
        {
         "customdata": [
          [
           1
          ],
          [
           2
          ],
          [
           1
          ],
          [
           2
          ],
          [
           3
          ],
          [
           2
          ],
          [
           4
          ],
          [
           7
          ],
          [
           3
          ],
          [
           4
          ],
          [
           3
          ],
          [
           6
          ],
          [
           6
          ],
          [
           18
          ],
          [
           9
          ],
          [
           11
          ],
          [
           11
          ],
          [
           10
          ],
          [
           8
          ],
          [
           5
          ],
          [
           11
          ],
          [
           9
          ],
          [
           10
          ],
          [
           17
          ],
          [
           14
          ],
          [
           11
          ],
          [
           12
          ],
          [
           17
          ],
          [
           12
          ],
          [
           12
          ],
          [
           14
          ],
          [
           11
          ],
          [
           7
          ]
         ],
         "hovertemplate": "genres=Psychological<br>start_date=%{x}<br>num_list_users=%{y}<br>title=%{customdata[0]}<extra></extra>",
         "legendgroup": "Psychological",
         "line": {
          "color": "#636efa",
          "dash": "solid"
         },
         "marker": {
          "symbol": "circle"
         },
         "mode": "lines",
         "name": "Psychological",
         "orientation": "v",
         "showlegend": true,
         "type": "scatter",
         "x": [
          1991,
          1992,
          1993,
          1994,
          1995,
          1996,
          1997,
          1998,
          1999,
          2000,
          2001,
          2002,
          2003,
          2004,
          2005,
          2006,
          2007,
          2008,
          2009,
          2010,
          2011,
          2012,
          2013,
          2014,
          2015,
          2016,
          2017,
          2018,
          2019,
          2020,
          2021,
          2022,
          2023
         ],
         "xaxis": "x",
         "y": [
          45655,
          2181,
          39365,
          17085,
          837540.3333333334,
          82293.5,
          346376,
          215419.85714285713,
          51142.333333333336,
          255225.75,
          41140.666666666664,
          76644.16666666667,
          133501.16666666666,
          228182.88888888888,
          101119.22222222222,
          630742.5454545454,
          219464.18181818182,
          107716.2,
          167712.625,
          223362,
          579305.2727272727,
          518027.77777777775,
          228804.5,
          467726.9411764706,
          386834.5714285714,
          486891,
          314242.9166666667,
          288109.9411764706,
          541015.9166666666,
          344198.5833333333,
          241074,
          163997.72727272726,
          53941.57142857143
         ],
         "yaxis": "y"
        },
        {
         "customdata": [
          [
           9
          ],
          [
           14
          ],
          [
           14
          ],
          [
           19
          ],
          [
           24
          ],
          [
           26
          ],
          [
           15
          ],
          [
           18
          ],
          [
           25
          ],
          [
           20
          ],
          [
           33
          ],
          [
           42
          ],
          [
           46
          ],
          [
           45
          ],
          [
           59
          ],
          [
           64
          ],
          [
           57
          ],
          [
           59
          ],
          [
           55
          ],
          [
           41
          ],
          [
           55
          ],
          [
           74
          ],
          [
           57
          ],
          [
           67
          ],
          [
           56
          ],
          [
           62
          ],
          [
           69
          ],
          [
           62
          ],
          [
           51
          ],
          [
           42
          ],
          [
           45
          ],
          [
           47
          ],
          [
           50
          ]
         ],
         "hovertemplate": "genres=Romance<br>start_date=%{x}<br>num_list_users=%{y}<br>title=%{customdata[0]}<extra></extra>",
         "legendgroup": "Romance",
         "line": {
          "color": "#EF553B",
          "dash": "solid"
         },
         "marker": {
          "symbol": "circle"
         },
         "mode": "lines",
         "name": "Romance",
         "orientation": "v",
         "showlegend": true,
         "type": "scatter",
         "x": [
          1991,
          1992,
          1993,
          1994,
          1995,
          1996,
          1997,
          1998,
          1999,
          2000,
          2001,
          2002,
          2003,
          2004,
          2005,
          2006,
          2007,
          2008,
          2009,
          2010,
          2011,
          2012,
          2013,
          2014,
          2015,
          2016,
          2017,
          2018,
          2019,
          2020,
          2021,
          2022,
          2023
         ],
         "xaxis": "x",
         "y": [
          26844,
          50376.42857142857,
          44454.357142857145,
          30685.473684210527,
          40690.083333333336,
          46956.153846153844,
          10675.2,
          46128.833333333336,
          25519.24,
          98042.25,
          47671.818181818184,
          61509.42857142857,
          42866.586956521736,
          108560.02222222222,
          76171.08474576271,
          119663,
          128542.42105263157,
          197662.74576271186,
          140941.2,
          209496.82926829267,
          158998,
          279266.58108108107,
          266885.3157894737,
          276032.67164179106,
          289283.25,
          148840.2741935484,
          189273.21739130435,
          174340.32258064515,
          186740.50980392157,
          166319.61904761905,
          176198.77777777778,
          165409.53191489363,
          105108.04
         ],
         "yaxis": "y"
        },
        {
         "customdata": [
          [
           9
          ],
          [
           5
          ],
          [
           7
          ],
          [
           10
          ],
          [
           8
          ],
          [
           8
          ],
          [
           7
          ],
          [
           11
          ],
          [
           9
          ],
          [
           6
          ],
          [
           16
          ],
          [
           16
          ],
          [
           12
          ],
          [
           25
          ],
          [
           21
          ],
          [
           38
          ],
          [
           53
          ],
          [
           54
          ],
          [
           50
          ],
          [
           55
          ],
          [
           70
          ],
          [
           98
          ],
          [
           91
          ],
          [
           105
          ],
          [
           100
          ],
          [
           101
          ],
          [
           101
          ],
          [
           66
          ],
          [
           84
          ],
          [
           57
          ],
          [
           53
          ],
          [
           53
          ],
          [
           54
          ]
         ],
         "hovertemplate": "genres=School<br>start_date=%{x}<br>num_list_users=%{y}<br>title=%{customdata[0]}<extra></extra>",
         "legendgroup": "School",
         "line": {
          "color": "#00cc96",
          "dash": "solid"
         },
         "marker": {
          "symbol": "circle"
         },
         "mode": "lines",
         "name": "School",
         "orientation": "v",
         "showlegend": true,
         "type": "scatter",
         "x": [
          1991,
          1992,
          1993,
          1994,
          1995,
          1996,
          1997,
          1998,
          1999,
          2000,
          2001,
          2002,
          2003,
          2004,
          2005,
          2006,
          2007,
          2008,
          2009,
          2010,
          2011,
          2012,
          2013,
          2014,
          2015,
          2016,
          2017,
          2018,
          2019,
          2020,
          2021,
          2022,
          2023
         ],
         "xaxis": "x",
         "y": [
          8432,
          19383.2,
          63885.142857142855,
          10928.4,
          8718.125,
          19761.625,
          34092.142857142855,
          62920.27272727273,
          103554.66666666667,
          10638.5,
          65779.0625,
          49587.875,
          94561.5,
          53699.6,
          88599.28571428571,
          206586.68421052632,
          119163.60377358491,
          173557.40740740742,
          116029.42,
          202913.5090909091,
          171900.2,
          222226.47959183675,
          210478.8021978022,
          202563.69523809524,
          241537.47,
          202523.61386138614,
          208666.28712871287,
          212936.9393939394,
          205220.0119047619,
          220694.77192982455,
          200204.79245283018,
          155179.24528301886,
          110608.5
         ],
         "yaxis": "y"
        },
        {
         "customdata": [
          [
           23
          ],
          [
           26
          ],
          [
           25
          ],
          [
           33
          ],
          [
           27
          ],
          [
           25
          ],
          [
           29
          ],
          [
           44
          ],
          [
           52
          ],
          [
           36
          ],
          [
           50
          ],
          [
           70
          ],
          [
           70
          ],
          [
           70
          ],
          [
           51
          ],
          [
           62
          ],
          [
           64
          ],
          [
           57
          ],
          [
           52
          ],
          [
           49
          ],
          [
           53
          ],
          [
           64
          ],
          [
           49
          ],
          [
           66
          ],
          [
           53
          ],
          [
           65
          ],
          [
           61
          ],
          [
           57
          ],
          [
           81
          ],
          [
           51
          ],
          [
           60
          ],
          [
           51
          ],
          [
           37
          ]
         ],
         "hovertemplate": "genres=Sci-Fi<br>start_date=%{x}<br>num_list_users=%{y}<br>title=%{customdata[0]}<extra></extra>",
         "legendgroup": "Sci-Fi",
         "line": {
          "color": "#ab63fa",
          "dash": "solid"
         },
         "marker": {
          "symbol": "circle"
         },
         "mode": "lines",
         "name": "Sci-Fi",
         "orientation": "v",
         "showlegend": true,
         "type": "scatter",
         "x": [
          1991,
          1992,
          1993,
          1994,
          1995,
          1996,
          1997,
          1998,
          1999,
          2000,
          2001,
          2002,
          2003,
          2004,
          2005,
          2006,
          2007,
          2008,
          2009,
          2010,
          2011,
          2012,
          2013,
          2014,
          2015,
          2016,
          2017,
          2018,
          2019,
          2020,
          2021,
          2022,
          2023
         ],
         "xaxis": "x",
         "y": [
          20981.739130434784,
          16882.19230769231,
          24786.44,
          12358.515151515152,
          117250.22222222222,
          17204.8,
          51203.31034482759,
          90294.45454545454,
          21266.346153846152,
          45555.916666666664,
          28275.8,
          44823.12857142857,
          38278.12857142857,
          44955.52857142857,
          37586.78431372549,
          119417.1129032258,
          70998.953125,
          109846.73684210527,
          113934.98076923077,
          82992.89795918367,
          174140.4716981132,
          141024.140625,
          122046.04081632652,
          151733.69696969696,
          122456.69811320755,
          89524.04615384615,
          96969.98360655738,
          101303.33333333333,
          116729.81481481482,
          86032.23529411765,
          101039.5,
          64673.686274509804,
          54619.72972972973
         ],
         "yaxis": "y"
        },
        {
         "customdata": [
          [
           8
          ],
          [
           15
          ],
          [
           7
          ],
          [
           4
          ],
          [
           9
          ],
          [
           8
          ],
          [
           6
          ],
          [
           11
          ],
          [
           14
          ],
          [
           6
          ],
          [
           13
          ],
          [
           18
          ],
          [
           17
          ],
          [
           19
          ],
          [
           24
          ],
          [
           27
          ],
          [
           28
          ],
          [
           24
          ],
          [
           34
          ],
          [
           37
          ],
          [
           32
          ],
          [
           40
          ],
          [
           30
          ],
          [
           42
          ],
          [
           47
          ],
          [
           42
          ],
          [
           30
          ],
          [
           38
          ],
          [
           30
          ],
          [
           23
          ],
          [
           18
          ],
          [
           28
          ],
          [
           33
          ]
         ],
         "hovertemplate": "genres=Seinen<br>start_date=%{x}<br>num_list_users=%{y}<br>title=%{customdata[0]}<extra></extra>",
         "legendgroup": "Seinen",
         "line": {
          "color": "#FFA15A",
          "dash": "solid"
         },
         "marker": {
          "symbol": "circle"
         },
         "mode": "lines",
         "name": "Seinen",
         "orientation": "v",
         "showlegend": true,
         "type": "scatter",
         "x": [
          1991,
          1992,
          1993,
          1994,
          1995,
          1996,
          1997,
          1998,
          1999,
          2000,
          2001,
          2002,
          2003,
          2004,
          2005,
          2006,
          2007,
          2008,
          2009,
          2010,
          2011,
          2012,
          2013,
          2014,
          2015,
          2016,
          2017,
          2018,
          2019,
          2020,
          2021,
          2022,
          2023
         ],
         "xaxis": "x",
         "y": [
          5612.875,
          11455.933333333332,
          19357.428571428572,
          18818.25,
          123975.88888888889,
          9597.5,
          110664.66666666667,
          57348,
          33111.642857142855,
          14545,
          83921.76923076923,
          71057.05555555556,
          39026.41176470588,
          231217,
          83487.25,
          133809.77777777778,
          55880.392857142855,
          88255.95833333333,
          37858.58823529412,
          116955.08108108108,
          66618.375,
          90858.7,
          95951.3,
          228169.04761904763,
          239087.04255319148,
          234427.42857142858,
          151246.5,
          178694.81578947368,
          247121.7,
          170418.86956521738,
          109418.16666666667,
          124751.78571428571,
          133259.51515151514
         ],
         "yaxis": "y"
        },
        {
         "customdata": [
          [
           16
          ],
          [
           14
          ],
          [
           23
          ],
          [
           27
          ],
          [
           16
          ],
          [
           27
          ],
          [
           26
          ],
          [
           25
          ],
          [
           19
          ],
          [
           28
          ],
          [
           31
          ],
          [
           35
          ],
          [
           48
          ],
          [
           49
          ],
          [
           50
          ],
          [
           42
          ],
          [
           42
          ],
          [
           58
          ],
          [
           45
          ],
          [
           58
          ],
          [
           66
          ],
          [
           59
          ],
          [
           56
          ],
          [
           67
          ],
          [
           68
          ],
          [
           73
          ],
          [
           61
          ],
          [
           54
          ],
          [
           54
          ],
          [
           40
          ],
          [
           62
          ],
          [
           65
          ],
          [
           65
          ]
         ],
         "hovertemplate": "genres=Shounen<br>start_date=%{x}<br>num_list_users=%{y}<br>title=%{customdata[0]}<extra></extra>",
         "legendgroup": "Shounen",
         "line": {
          "color": "#19d3f3",
          "dash": "solid"
         },
         "marker": {
          "symbol": "circle"
         },
         "mode": "lines",
         "name": "Shounen",
         "orientation": "v",
         "showlegend": true,
         "type": "scatter",
         "x": [
          1991,
          1992,
          1993,
          1994,
          1995,
          1996,
          1997,
          1998,
          1999,
          2000,
          2001,
          2002,
          2003,
          2004,
          2005,
          2006,
          2007,
          2008,
          2009,
          2010,
          2011,
          2012,
          2013,
          2014,
          2015,
          2016,
          2017,
          2018,
          2019,
          2020,
          2021,
          2022,
          2023
         ],
         "xaxis": "x",
         "y": [
          24231.875,
          75003.28571428571,
          46776.565217391304,
          15207.62962962963,
          26863.75,
          64732.77777777778,
          16442.03846153846,
          52852.4,
          217050.05263157896,
          93414.60714285714,
          60522.58064516129,
          113439.71428571429,
          72932.375,
          102446.59183673469,
          66813.68,
          202645.09523809524,
          139673.38095238095,
          126517.94827586207,
          205892.66666666666,
          142231.3620689655,
          221363.87878787878,
          186685.7288135593,
          194822.32142857142,
          301641.0895522388,
          286457.85294117645,
          237955.4794520548,
          324257.95081967214,
          318226.85185185185,
          428215.22222222225,
          384694.4,
          301069.43548387097,
          210570.5846153846,
          133594.63076923077
         ],
         "yaxis": "y"
        },
        {
         "customdata": [
          [
           4
          ],
          [
           4
          ],
          [
           2
          ],
          [
           5
          ],
          [
           2
          ],
          [
           7
          ],
          [
           5
          ],
          [
           3
          ],
          [
           4
          ],
          [
           1
          ],
          [
           7
          ],
          [
           5
          ],
          [
           10
          ],
          [
           8
          ],
          [
           16
          ],
          [
           11
          ],
          [
           16
          ],
          [
           14
          ],
          [
           27
          ],
          [
           28
          ],
          [
           35
          ],
          [
           23
          ],
          [
           18
          ],
          [
           25
          ],
          [
           22
          ],
          [
           15
          ],
          [
           15
          ],
          [
           37
          ],
          [
           24
          ],
          [
           17
          ],
          [
           13
          ],
          [
           13
          ],
          [
           7
          ]
         ],
         "hovertemplate": "genres=Super Power<br>start_date=%{x}<br>num_list_users=%{y}<br>title=%{customdata[0]}<extra></extra>",
         "legendgroup": "Super Power",
         "line": {
          "color": "#FF6692",
          "dash": "solid"
         },
         "marker": {
          "symbol": "circle"
         },
         "mode": "lines",
         "name": "Super Power",
         "orientation": "v",
         "showlegend": true,
         "type": "scatter",
         "x": [
          1991,
          1992,
          1993,
          1994,
          1995,
          1996,
          1997,
          1998,
          1999,
          2000,
          2001,
          2002,
          2003,
          2004,
          2005,
          2006,
          2007,
          2008,
          2009,
          2010,
          2011,
          2012,
          2013,
          2014,
          2015,
          2016,
          2017,
          2018,
          2019,
          2020,
          2021,
          2022,
          2023
         ],
         "xaxis": "x",
         "y": [
          3489.75,
          20300.75,
          9230,
          29900.8,
          4202.5,
          104602,
          38759,
          16258.333333333334,
          5212.75,
          10068,
          88667.71428571429,
          45929,
          64097.8,
          57814.625,
          76161.4375,
          336670.54545454547,
          76095.0625,
          271478.5,
          121079.77777777778,
          73485.60714285714,
          129723.37142857142,
          121795.78260869565,
          196765.55555555556,
          211540.32,
          379150.5,
          605364.7333333333,
          273922.8,
          153049.72972972973,
          377797.125,
          199097.76470588235,
          177350.23076923078,
          119861.76923076923,
          100813.14285714286
         ],
         "yaxis": "y"
        },
        {
         "customdata": [
          [
           8
          ],
          [
           4
          ],
          [
           4
          ],
          [
           6
          ],
          [
           3
          ],
          [
           10
          ],
          [
           9
          ],
          [
           8
          ],
          [
           6
          ],
          [
           15
          ],
          [
           10
          ],
          [
           16
          ],
          [
           15
          ],
          [
           25
          ],
          [
           34
          ],
          [
           39
          ],
          [
           30
          ],
          [
           34
          ],
          [
           28
          ],
          [
           49
          ],
          [
           60
          ],
          [
           46
          ],
          [
           35
          ],
          [
           41
          ],
          [
           40
          ],
          [
           54
          ],
          [
           52
          ],
          [
           60
          ],
          [
           44
          ],
          [
           34
          ],
          [
           55
          ],
          [
           31
          ],
          [
           34
          ]
         ],
         "hovertemplate": "genres=Supernatural<br>start_date=%{x}<br>num_list_users=%{y}<br>title=%{customdata[0]}<extra></extra>",
         "legendgroup": "Supernatural",
         "line": {
          "color": "#B6E880",
          "dash": "solid"
         },
         "marker": {
          "symbol": "circle"
         },
         "mode": "lines",
         "name": "Supernatural",
         "orientation": "v",
         "showlegend": true,
         "type": "scatter",
         "x": [
          1991,
          1992,
          1993,
          1994,
          1995,
          1996,
          1997,
          1998,
          1999,
          2000,
          2001,
          2002,
          2003,
          2004,
          2005,
          2006,
          2007,
          2008,
          2009,
          2010,
          2011,
          2012,
          2013,
          2014,
          2015,
          2016,
          2017,
          2018,
          2019,
          2020,
          2021,
          2022,
          2023
         ],
         "xaxis": "x",
         "y": [
          4959.625,
          2976.5,
          48244.25,
          10343.166666666666,
          8559.333333333334,
          5656.1,
          6914.888888888889,
          103112.125,
          23739.833333333332,
          48715.333333333336,
          363164.4,
          36202.625,
          40373.066666666666,
          111958.44,
          107620.35294117648,
          218232.58974358975,
          186405.23333333334,
          174702.91176470587,
          116887.53571428571,
          222070.3469387755,
          202202.23333333334,
          242025.21739130435,
          152387.25714285715,
          197041.56097560975,
          255150.4,
          300303.6666666667,
          92662.09615384616,
          156345.06666666668,
          176614.38636363635,
          125090.91176470589,
          117891.2,
          97358.90322580645,
          101166.5
         ],
         "yaxis": "y"
        },
        {
         "customdata": [
          [
           1
          ],
          [
           1
          ],
          [
           2
          ],
          [
           1
          ],
          [
           2
          ],
          [
           1
          ],
          [
           1
          ],
          [
           2
          ],
          [
           1
          ],
          [
           6
          ],
          [
           2
          ],
          [
           2
          ],
          [
           6
          ],
          [
           9
          ],
          [
           9
          ],
          [
           5
          ],
          [
           6
          ],
          [
           6
          ],
          [
           6
          ],
          [
           9
          ],
          [
           5
          ],
          [
           9
          ],
          [
           8
          ],
          [
           9
          ],
          [
           8
          ],
          [
           13
          ],
          [
           21
          ],
          [
           9
          ],
          [
           14
          ]
         ],
         "hovertemplate": "genres=Suspense<br>start_date=%{x}<br>num_list_users=%{y}<br>title=%{customdata[0]}<extra></extra>",
         "legendgroup": "Suspense",
         "line": {
          "color": "#FF97FF",
          "dash": "solid"
         },
         "marker": {
          "symbol": "circle"
         },
         "mode": "lines",
         "name": "Suspense",
         "orientation": "v",
         "showlegend": true,
         "type": "scatter",
         "x": [
          1992,
          1993,
          1995,
          1996,
          1998,
          1999,
          2000,
          2002,
          2003,
          2004,
          2005,
          2006,
          2007,
          2008,
          2009,
          2010,
          2011,
          2012,
          2013,
          2014,
          2015,
          2016,
          2017,
          2018,
          2019,
          2020,
          2021,
          2022,
          2023
         ],
         "xaxis": "x",
         "y": [
          874,
          39365,
          1191734,
          5145,
          385424,
          11908,
          803885,
          13748,
          35608,
          295033,
          52008.5,
          1901681.5,
          231011,
          145330.33333333334,
          190274,
          174358.8,
          1039034.5,
          504715.8333333333,
          762571.8333333334,
          260456.11111111112,
          467714,
          613035,
          341121.5,
          563274,
          611060,
          368375.07692307694,
          192271.85714285713,
          242512.44444444444,
          109669.28571428571
         ],
         "yaxis": "y"
        },
        {
         "customdata": [
          [
           1
          ],
          [
           2
          ],
          [
           1
          ],
          [
           1
          ],
          [
           2
          ],
          [
           3
          ],
          [
           2
          ],
          [
           1
          ],
          [
           6
          ],
          [
           4
          ],
          [
           2
          ],
          [
           8
          ],
          [
           4
          ],
          [
           4
          ],
          [
           9
          ],
          [
           8
          ],
          [
           7
          ],
          [
           3
          ],
          [
           5
          ]
         ],
         "hovertemplate": "genres=Survival<br>start_date=%{x}<br>num_list_users=%{y}<br>title=%{customdata[0]}<extra></extra>",
         "legendgroup": "Survival",
         "line": {
          "color": "#FECB52",
          "dash": "solid"
         },
         "marker": {
          "symbol": "circle"
         },
         "mode": "lines",
         "name": "Survival",
         "orientation": "v",
         "showlegend": true,
         "type": "scatter",
         "x": [
          2003,
          2004,
          2006,
          2007,
          2009,
          2010,
          2011,
          2012,
          2013,
          2014,
          2015,
          2016,
          2017,
          2018,
          2019,
          2020,
          2021,
          2022,
          2023
         ],
         "xaxis": "x",
         "y": [
          29358,
          256688,
          72450,
          188780,
          139693.5,
          600209.3333333334,
          1595905,
          844775,
          935957.3333333334,
          110748.75,
          284616,
          254662.875,
          1074658.25,
          593683.75,
          747695.5555555555,
          423386.25,
          307944.5714285714,
          547645,
          276574
         ],
         "yaxis": "y"
        }
       ],
       "layout": {
        "legend": {
         "title": {
          "text": "genres"
         },
         "tracegroupgap": 0
        },
        "margin": {
         "t": 60
        },
        "template": {
         "data": {
          "bar": [
           {
            "error_x": {
             "color": "#2a3f5f"
            },
            "error_y": {
             "color": "#2a3f5f"
            },
            "marker": {
             "line": {
              "color": "#E5ECF6",
              "width": 0.5
             },
             "pattern": {
              "fillmode": "overlay",
              "size": 10,
              "solidity": 0.2
             }
            },
            "type": "bar"
           }
          ],
          "barpolar": [
           {
            "marker": {
             "line": {
              "color": "#E5ECF6",
              "width": 0.5
             },
             "pattern": {
              "fillmode": "overlay",
              "size": 10,
              "solidity": 0.2
             }
            },
            "type": "barpolar"
           }
          ],
          "carpet": [
           {
            "aaxis": {
             "endlinecolor": "#2a3f5f",
             "gridcolor": "white",
             "linecolor": "white",
             "minorgridcolor": "white",
             "startlinecolor": "#2a3f5f"
            },
            "baxis": {
             "endlinecolor": "#2a3f5f",
             "gridcolor": "white",
             "linecolor": "white",
             "minorgridcolor": "white",
             "startlinecolor": "#2a3f5f"
            },
            "type": "carpet"
           }
          ],
          "choropleth": [
           {
            "colorbar": {
             "outlinewidth": 0,
             "ticks": ""
            },
            "type": "choropleth"
           }
          ],
          "contour": [
           {
            "colorbar": {
             "outlinewidth": 0,
             "ticks": ""
            },
            "colorscale": [
             [
              0,
              "#0d0887"
             ],
             [
              0.1111111111111111,
              "#46039f"
             ],
             [
              0.2222222222222222,
              "#7201a8"
             ],
             [
              0.3333333333333333,
              "#9c179e"
             ],
             [
              0.4444444444444444,
              "#bd3786"
             ],
             [
              0.5555555555555556,
              "#d8576b"
             ],
             [
              0.6666666666666666,
              "#ed7953"
             ],
             [
              0.7777777777777778,
              "#fb9f3a"
             ],
             [
              0.8888888888888888,
              "#fdca26"
             ],
             [
              1,
              "#f0f921"
             ]
            ],
            "type": "contour"
           }
          ],
          "contourcarpet": [
           {
            "colorbar": {
             "outlinewidth": 0,
             "ticks": ""
            },
            "type": "contourcarpet"
           }
          ],
          "heatmap": [
           {
            "colorbar": {
             "outlinewidth": 0,
             "ticks": ""
            },
            "colorscale": [
             [
              0,
              "#0d0887"
             ],
             [
              0.1111111111111111,
              "#46039f"
             ],
             [
              0.2222222222222222,
              "#7201a8"
             ],
             [
              0.3333333333333333,
              "#9c179e"
             ],
             [
              0.4444444444444444,
              "#bd3786"
             ],
             [
              0.5555555555555556,
              "#d8576b"
             ],
             [
              0.6666666666666666,
              "#ed7953"
             ],
             [
              0.7777777777777778,
              "#fb9f3a"
             ],
             [
              0.8888888888888888,
              "#fdca26"
             ],
             [
              1,
              "#f0f921"
             ]
            ],
            "type": "heatmap"
           }
          ],
          "heatmapgl": [
           {
            "colorbar": {
             "outlinewidth": 0,
             "ticks": ""
            },
            "colorscale": [
             [
              0,
              "#0d0887"
             ],
             [
              0.1111111111111111,
              "#46039f"
             ],
             [
              0.2222222222222222,
              "#7201a8"
             ],
             [
              0.3333333333333333,
              "#9c179e"
             ],
             [
              0.4444444444444444,
              "#bd3786"
             ],
             [
              0.5555555555555556,
              "#d8576b"
             ],
             [
              0.6666666666666666,
              "#ed7953"
             ],
             [
              0.7777777777777778,
              "#fb9f3a"
             ],
             [
              0.8888888888888888,
              "#fdca26"
             ],
             [
              1,
              "#f0f921"
             ]
            ],
            "type": "heatmapgl"
           }
          ],
          "histogram": [
           {
            "marker": {
             "pattern": {
              "fillmode": "overlay",
              "size": 10,
              "solidity": 0.2
             }
            },
            "type": "histogram"
           }
          ],
          "histogram2d": [
           {
            "colorbar": {
             "outlinewidth": 0,
             "ticks": ""
            },
            "colorscale": [
             [
              0,
              "#0d0887"
             ],
             [
              0.1111111111111111,
              "#46039f"
             ],
             [
              0.2222222222222222,
              "#7201a8"
             ],
             [
              0.3333333333333333,
              "#9c179e"
             ],
             [
              0.4444444444444444,
              "#bd3786"
             ],
             [
              0.5555555555555556,
              "#d8576b"
             ],
             [
              0.6666666666666666,
              "#ed7953"
             ],
             [
              0.7777777777777778,
              "#fb9f3a"
             ],
             [
              0.8888888888888888,
              "#fdca26"
             ],
             [
              1,
              "#f0f921"
             ]
            ],
            "type": "histogram2d"
           }
          ],
          "histogram2dcontour": [
           {
            "colorbar": {
             "outlinewidth": 0,
             "ticks": ""
            },
            "colorscale": [
             [
              0,
              "#0d0887"
             ],
             [
              0.1111111111111111,
              "#46039f"
             ],
             [
              0.2222222222222222,
              "#7201a8"
             ],
             [
              0.3333333333333333,
              "#9c179e"
             ],
             [
              0.4444444444444444,
              "#bd3786"
             ],
             [
              0.5555555555555556,
              "#d8576b"
             ],
             [
              0.6666666666666666,
              "#ed7953"
             ],
             [
              0.7777777777777778,
              "#fb9f3a"
             ],
             [
              0.8888888888888888,
              "#fdca26"
             ],
             [
              1,
              "#f0f921"
             ]
            ],
            "type": "histogram2dcontour"
           }
          ],
          "mesh3d": [
           {
            "colorbar": {
             "outlinewidth": 0,
             "ticks": ""
            },
            "type": "mesh3d"
           }
          ],
          "parcoords": [
           {
            "line": {
             "colorbar": {
              "outlinewidth": 0,
              "ticks": ""
             }
            },
            "type": "parcoords"
           }
          ],
          "pie": [
           {
            "automargin": true,
            "type": "pie"
           }
          ],
          "scatter": [
           {
            "fillpattern": {
             "fillmode": "overlay",
             "size": 10,
             "solidity": 0.2
            },
            "type": "scatter"
           }
          ],
          "scatter3d": [
           {
            "line": {
             "colorbar": {
              "outlinewidth": 0,
              "ticks": ""
             }
            },
            "marker": {
             "colorbar": {
              "outlinewidth": 0,
              "ticks": ""
             }
            },
            "type": "scatter3d"
           }
          ],
          "scattercarpet": [
           {
            "marker": {
             "colorbar": {
              "outlinewidth": 0,
              "ticks": ""
             }
            },
            "type": "scattercarpet"
           }
          ],
          "scattergeo": [
           {
            "marker": {
             "colorbar": {
              "outlinewidth": 0,
              "ticks": ""
             }
            },
            "type": "scattergeo"
           }
          ],
          "scattergl": [
           {
            "marker": {
             "colorbar": {
              "outlinewidth": 0,
              "ticks": ""
             }
            },
            "type": "scattergl"
           }
          ],
          "scattermapbox": [
           {
            "marker": {
             "colorbar": {
              "outlinewidth": 0,
              "ticks": ""
             }
            },
            "type": "scattermapbox"
           }
          ],
          "scatterpolar": [
           {
            "marker": {
             "colorbar": {
              "outlinewidth": 0,
              "ticks": ""
             }
            },
            "type": "scatterpolar"
           }
          ],
          "scatterpolargl": [
           {
            "marker": {
             "colorbar": {
              "outlinewidth": 0,
              "ticks": ""
             }
            },
            "type": "scatterpolargl"
           }
          ],
          "scatterternary": [
           {
            "marker": {
             "colorbar": {
              "outlinewidth": 0,
              "ticks": ""
             }
            },
            "type": "scatterternary"
           }
          ],
          "surface": [
           {
            "colorbar": {
             "outlinewidth": 0,
             "ticks": ""
            },
            "colorscale": [
             [
              0,
              "#0d0887"
             ],
             [
              0.1111111111111111,
              "#46039f"
             ],
             [
              0.2222222222222222,
              "#7201a8"
             ],
             [
              0.3333333333333333,
              "#9c179e"
             ],
             [
              0.4444444444444444,
              "#bd3786"
             ],
             [
              0.5555555555555556,
              "#d8576b"
             ],
             [
              0.6666666666666666,
              "#ed7953"
             ],
             [
              0.7777777777777778,
              "#fb9f3a"
             ],
             [
              0.8888888888888888,
              "#fdca26"
             ],
             [
              1,
              "#f0f921"
             ]
            ],
            "type": "surface"
           }
          ],
          "table": [
           {
            "cells": {
             "fill": {
              "color": "#EBF0F8"
             },
             "line": {
              "color": "white"
             }
            },
            "header": {
             "fill": {
              "color": "#C8D4E3"
             },
             "line": {
              "color": "white"
             }
            },
            "type": "table"
           }
          ]
         },
         "layout": {
          "annotationdefaults": {
           "arrowcolor": "#2a3f5f",
           "arrowhead": 0,
           "arrowwidth": 1
          },
          "autotypenumbers": "strict",
          "coloraxis": {
           "colorbar": {
            "outlinewidth": 0,
            "ticks": ""
           }
          },
          "colorscale": {
           "diverging": [
            [
             0,
             "#8e0152"
            ],
            [
             0.1,
             "#c51b7d"
            ],
            [
             0.2,
             "#de77ae"
            ],
            [
             0.3,
             "#f1b6da"
            ],
            [
             0.4,
             "#fde0ef"
            ],
            [
             0.5,
             "#f7f7f7"
            ],
            [
             0.6,
             "#e6f5d0"
            ],
            [
             0.7,
             "#b8e186"
            ],
            [
             0.8,
             "#7fbc41"
            ],
            [
             0.9,
             "#4d9221"
            ],
            [
             1,
             "#276419"
            ]
           ],
           "sequential": [
            [
             0,
             "#0d0887"
            ],
            [
             0.1111111111111111,
             "#46039f"
            ],
            [
             0.2222222222222222,
             "#7201a8"
            ],
            [
             0.3333333333333333,
             "#9c179e"
            ],
            [
             0.4444444444444444,
             "#bd3786"
            ],
            [
             0.5555555555555556,
             "#d8576b"
            ],
            [
             0.6666666666666666,
             "#ed7953"
            ],
            [
             0.7777777777777778,
             "#fb9f3a"
            ],
            [
             0.8888888888888888,
             "#fdca26"
            ],
            [
             1,
             "#f0f921"
            ]
           ],
           "sequentialminus": [
            [
             0,
             "#0d0887"
            ],
            [
             0.1111111111111111,
             "#46039f"
            ],
            [
             0.2222222222222222,
             "#7201a8"
            ],
            [
             0.3333333333333333,
             "#9c179e"
            ],
            [
             0.4444444444444444,
             "#bd3786"
            ],
            [
             0.5555555555555556,
             "#d8576b"
            ],
            [
             0.6666666666666666,
             "#ed7953"
            ],
            [
             0.7777777777777778,
             "#fb9f3a"
            ],
            [
             0.8888888888888888,
             "#fdca26"
            ],
            [
             1,
             "#f0f921"
            ]
           ]
          },
          "colorway": [
           "#636efa",
           "#EF553B",
           "#00cc96",
           "#ab63fa",
           "#FFA15A",
           "#19d3f3",
           "#FF6692",
           "#B6E880",
           "#FF97FF",
           "#FECB52"
          ],
          "font": {
           "color": "#2a3f5f"
          },
          "geo": {
           "bgcolor": "white",
           "lakecolor": "white",
           "landcolor": "#E5ECF6",
           "showlakes": true,
           "showland": true,
           "subunitcolor": "white"
          },
          "hoverlabel": {
           "align": "left"
          },
          "hovermode": "closest",
          "mapbox": {
           "style": "light"
          },
          "paper_bgcolor": "white",
          "plot_bgcolor": "#E5ECF6",
          "polar": {
           "angularaxis": {
            "gridcolor": "white",
            "linecolor": "white",
            "ticks": ""
           },
           "bgcolor": "#E5ECF6",
           "radialaxis": {
            "gridcolor": "white",
            "linecolor": "white",
            "ticks": ""
           }
          },
          "scene": {
           "xaxis": {
            "backgroundcolor": "#E5ECF6",
            "gridcolor": "white",
            "gridwidth": 2,
            "linecolor": "white",
            "showbackground": true,
            "ticks": "",
            "zerolinecolor": "white"
           },
           "yaxis": {
            "backgroundcolor": "#E5ECF6",
            "gridcolor": "white",
            "gridwidth": 2,
            "linecolor": "white",
            "showbackground": true,
            "ticks": "",
            "zerolinecolor": "white"
           },
           "zaxis": {
            "backgroundcolor": "#E5ECF6",
            "gridcolor": "white",
            "gridwidth": 2,
            "linecolor": "white",
            "showbackground": true,
            "ticks": "",
            "zerolinecolor": "white"
           }
          },
          "shapedefaults": {
           "line": {
            "color": "#2a3f5f"
           }
          },
          "ternary": {
           "aaxis": {
            "gridcolor": "white",
            "linecolor": "white",
            "ticks": ""
           },
           "baxis": {
            "gridcolor": "white",
            "linecolor": "white",
            "ticks": ""
           },
           "bgcolor": "#E5ECF6",
           "caxis": {
            "gridcolor": "white",
            "linecolor": "white",
            "ticks": ""
           }
          },
          "title": {
           "x": 0.05
          },
          "xaxis": {
           "automargin": true,
           "gridcolor": "white",
           "linecolor": "white",
           "ticks": "",
           "title": {
            "standoff": 15
           },
           "zerolinecolor": "white",
           "zerolinewidth": 2
          },
          "yaxis": {
           "automargin": true,
           "gridcolor": "white",
           "linecolor": "white",
           "ticks": "",
           "title": {
            "standoff": 15
           },
           "zerolinecolor": "white",
           "zerolinewidth": 2
          }
         }
        },
        "xaxis": {
         "anchor": "y",
         "domain": [
          0,
          1
         ],
         "title": {
          "text": "start_date"
         }
        },
        "yaxis": {
         "anchor": "x",
         "domain": [
          0,
          1
         ],
         "title": {
          "text": "num_list_users"
         }
        }
       }
      }
     },
     "metadata": {},
     "output_type": "display_data"
    }
   ],
   "source": [
    "gen_views_tempo = data[data[\"start_date\"]>1990].explode(\"genres\")\n",
    "gen_views_tempo = gen_views_tempo.copy()[gen_views_tempo[\"genres\"].isin(filtro_genres)]\n",
    "\n",
    "gen_views_tempo= gen_views_tempo.groupby([\"start_date\",\"genres\"]).agg({\n",
    "    \"num_list_users\": \"mean\",\n",
    "    \"title\":\"count\"\n",
    "}).reset_index()\n",
    "\n",
    "\n",
    "import plotly.express as px\n",
    "\n",
    "px.line(x=\"start_date\",y=\"num_list_users\",color=\"genres\",data_frame=gen_views_tempo,hover_data=[\"title\"])\n",
    "\n",
    "\n",
    "\n",
    "\n"
   ]
  },
  {
   "cell_type": "code",
   "execution_count": 101,
   "metadata": {},
   "outputs": [
    {
     "data": {
      "application/vnd.plotly.v1+json": {
       "config": {
        "plotlyServerURL": "https://plot.ly"
       },
       "data": [
        {
         "customdata": [
          [
           "Dragon Ball Z Movie 05: Tobikkiri no Saikyou tai Saikyou"
          ],
          [
           "Yuu☆Yuu☆Hakusho"
          ],
          [
           "Slam Dunk"
          ],
          [
           "Bishoujo Senshi Sailor Moon S"
          ],
          [
           "Neon Genesis Evangelion"
          ],
          [
           "Dragon Ball GT"
          ],
          [
           "Mononoke Hime"
          ],
          [
           "Cowboy Bebop"
          ],
          [
           "One Piece"
          ],
          [
           "FLCL"
          ],
          [
           "Sen to Chihiro no Kamikakushi"
          ],
          [
           "Naruto"
          ],
          [
           "Fullmetal Alchemist"
          ],
          [
           "Bleach"
          ],
          [
           "Mushishi"
          ],
          [
           "Death Note"
          ],
          [
           "Naruto: Shippuuden"
          ],
          [
           "Toradora!"
          ],
          [
           "Fullmetal Alchemist: Brotherhood"
          ],
          [
           "Angel Beats!"
          ],
          [
           "Hunter x Hunter (2011)"
          ],
          [
           "Sword Art Online"
          ],
          [
           "Shingeki no Kyojin"
          ],
          [
           "Tokyo Ghoul"
          ],
          [
           "One Punch Man"
          ],
          [
           "Boku no Hero Academia"
          ],
          [
           "Shingeki no Kyojin Season 2"
          ],
          [
           "Shingeki no Kyojin Season 3"
          ],
          [
           "Kimetsu no Yaiba"
          ],
          [
           "Jujutsu Kaisen"
          ],
          [
           "Kimetsu no Yaiba: Yuukaku-hen"
          ],
          [
           "Spy x Family"
          ],
          [
           "Kimetsu no Yaiba: Katanakaji no Sato-hen"
          ]
         ],
         "hovertemplate": "start_date=%{x}<br>num_list_users=%{y}<br>title=%{customdata[0]}<extra></extra>",
         "legendgroup": "",
         "line": {
          "color": "#636efa",
          "dash": "solid"
         },
         "marker": {
          "symbol": "circle"
         },
         "mode": "lines",
         "name": "",
         "orientation": "v",
         "showlegend": false,
         "type": "scatter",
         "x": [
          1991,
          1992,
          1993,
          1994,
          1995,
          1996,
          1997,
          1998,
          1999,
          2000,
          2001,
          2002,
          2003,
          2004,
          2005,
          2006,
          2007,
          2008,
          2009,
          2010,
          2011,
          2012,
          2013,
          2014,
          2015,
          2016,
          2017,
          2018,
          2019,
          2020,
          2021,
          2022,
          2023
         ],
         "xaxis": "x",
         "y": [
          145680,
          668933,
          291547,
          144033,
          1764477,
          617565,
          1218714,
          1813656,
          2264028,
          803885,
          1802113,
          2777723,
          1445972,
          1908524,
          809369,
          3795011,
          2409312,
          2158044,
          3247266,
          2038514,
          2732106,
          3003860,
          3827933,
          2751837,
          3127160,
          2943331,
          2630433,
          2276083,
          2907846,
          2376151,
          1332783,
          1440662,
          711117
         ],
         "yaxis": "y"
        },
        {
         "mode": "lines",
         "name": "teste",
         "type": "scatter",
         "x": [
          1981,
          1982,
          1983,
          1984,
          1985,
          1986,
          1987,
          1988,
          1989,
          1990,
          1991,
          1992,
          1993,
          1994,
          1995,
          1996,
          1997,
          1998,
          1999,
          2000,
          2001,
          2002,
          2003,
          2004,
          2005,
          2006,
          2007,
          2008,
          2009,
          2010,
          2011,
          2012,
          2013,
          2014,
          2015,
          2016,
          2017,
          2018,
          2019,
          2020,
          2021,
          2022,
          2023
         ],
         "y": [
          372063,
          332575,
          398533,
          733527,
          637393,
          2118704,
          750421,
          3568047,
          2709042,
          855669,
          991453,
          2125799,
          2101405,
          1446643,
          5019234,
          2898885,
          4926822,
          6950215,
          6930116,
          6116429,
          7831438,
          10110772,
          8845352,
          15967063,
          11660946,
          27921273,
          24615631,
          28482040,
          28404380,
          31038179,
          43741775,
          51533128,
          50665488,
          66314957.00000001,
          64976102.99999999,
          64140857.99999999,
          55846408,
          58758145,
          57391948,
          42714568,
          49184847,
          36207658,
          25819750
         ]
        }
       ],
       "layout": {
        "legend": {
         "tracegroupgap": 0
        },
        "margin": {
         "t": 60
        },
        "template": {
         "data": {
          "bar": [
           {
            "error_x": {
             "color": "#2a3f5f"
            },
            "error_y": {
             "color": "#2a3f5f"
            },
            "marker": {
             "line": {
              "color": "#E5ECF6",
              "width": 0.5
             },
             "pattern": {
              "fillmode": "overlay",
              "size": 10,
              "solidity": 0.2
             }
            },
            "type": "bar"
           }
          ],
          "barpolar": [
           {
            "marker": {
             "line": {
              "color": "#E5ECF6",
              "width": 0.5
             },
             "pattern": {
              "fillmode": "overlay",
              "size": 10,
              "solidity": 0.2
             }
            },
            "type": "barpolar"
           }
          ],
          "carpet": [
           {
            "aaxis": {
             "endlinecolor": "#2a3f5f",
             "gridcolor": "white",
             "linecolor": "white",
             "minorgridcolor": "white",
             "startlinecolor": "#2a3f5f"
            },
            "baxis": {
             "endlinecolor": "#2a3f5f",
             "gridcolor": "white",
             "linecolor": "white",
             "minorgridcolor": "white",
             "startlinecolor": "#2a3f5f"
            },
            "type": "carpet"
           }
          ],
          "choropleth": [
           {
            "colorbar": {
             "outlinewidth": 0,
             "ticks": ""
            },
            "type": "choropleth"
           }
          ],
          "contour": [
           {
            "colorbar": {
             "outlinewidth": 0,
             "ticks": ""
            },
            "colorscale": [
             [
              0,
              "#0d0887"
             ],
             [
              0.1111111111111111,
              "#46039f"
             ],
             [
              0.2222222222222222,
              "#7201a8"
             ],
             [
              0.3333333333333333,
              "#9c179e"
             ],
             [
              0.4444444444444444,
              "#bd3786"
             ],
             [
              0.5555555555555556,
              "#d8576b"
             ],
             [
              0.6666666666666666,
              "#ed7953"
             ],
             [
              0.7777777777777778,
              "#fb9f3a"
             ],
             [
              0.8888888888888888,
              "#fdca26"
             ],
             [
              1,
              "#f0f921"
             ]
            ],
            "type": "contour"
           }
          ],
          "contourcarpet": [
           {
            "colorbar": {
             "outlinewidth": 0,
             "ticks": ""
            },
            "type": "contourcarpet"
           }
          ],
          "heatmap": [
           {
            "colorbar": {
             "outlinewidth": 0,
             "ticks": ""
            },
            "colorscale": [
             [
              0,
              "#0d0887"
             ],
             [
              0.1111111111111111,
              "#46039f"
             ],
             [
              0.2222222222222222,
              "#7201a8"
             ],
             [
              0.3333333333333333,
              "#9c179e"
             ],
             [
              0.4444444444444444,
              "#bd3786"
             ],
             [
              0.5555555555555556,
              "#d8576b"
             ],
             [
              0.6666666666666666,
              "#ed7953"
             ],
             [
              0.7777777777777778,
              "#fb9f3a"
             ],
             [
              0.8888888888888888,
              "#fdca26"
             ],
             [
              1,
              "#f0f921"
             ]
            ],
            "type": "heatmap"
           }
          ],
          "heatmapgl": [
           {
            "colorbar": {
             "outlinewidth": 0,
             "ticks": ""
            },
            "colorscale": [
             [
              0,
              "#0d0887"
             ],
             [
              0.1111111111111111,
              "#46039f"
             ],
             [
              0.2222222222222222,
              "#7201a8"
             ],
             [
              0.3333333333333333,
              "#9c179e"
             ],
             [
              0.4444444444444444,
              "#bd3786"
             ],
             [
              0.5555555555555556,
              "#d8576b"
             ],
             [
              0.6666666666666666,
              "#ed7953"
             ],
             [
              0.7777777777777778,
              "#fb9f3a"
             ],
             [
              0.8888888888888888,
              "#fdca26"
             ],
             [
              1,
              "#f0f921"
             ]
            ],
            "type": "heatmapgl"
           }
          ],
          "histogram": [
           {
            "marker": {
             "pattern": {
              "fillmode": "overlay",
              "size": 10,
              "solidity": 0.2
             }
            },
            "type": "histogram"
           }
          ],
          "histogram2d": [
           {
            "colorbar": {
             "outlinewidth": 0,
             "ticks": ""
            },
            "colorscale": [
             [
              0,
              "#0d0887"
             ],
             [
              0.1111111111111111,
              "#46039f"
             ],
             [
              0.2222222222222222,
              "#7201a8"
             ],
             [
              0.3333333333333333,
              "#9c179e"
             ],
             [
              0.4444444444444444,
              "#bd3786"
             ],
             [
              0.5555555555555556,
              "#d8576b"
             ],
             [
              0.6666666666666666,
              "#ed7953"
             ],
             [
              0.7777777777777778,
              "#fb9f3a"
             ],
             [
              0.8888888888888888,
              "#fdca26"
             ],
             [
              1,
              "#f0f921"
             ]
            ],
            "type": "histogram2d"
           }
          ],
          "histogram2dcontour": [
           {
            "colorbar": {
             "outlinewidth": 0,
             "ticks": ""
            },
            "colorscale": [
             [
              0,
              "#0d0887"
             ],
             [
              0.1111111111111111,
              "#46039f"
             ],
             [
              0.2222222222222222,
              "#7201a8"
             ],
             [
              0.3333333333333333,
              "#9c179e"
             ],
             [
              0.4444444444444444,
              "#bd3786"
             ],
             [
              0.5555555555555556,
              "#d8576b"
             ],
             [
              0.6666666666666666,
              "#ed7953"
             ],
             [
              0.7777777777777778,
              "#fb9f3a"
             ],
             [
              0.8888888888888888,
              "#fdca26"
             ],
             [
              1,
              "#f0f921"
             ]
            ],
            "type": "histogram2dcontour"
           }
          ],
          "mesh3d": [
           {
            "colorbar": {
             "outlinewidth": 0,
             "ticks": ""
            },
            "type": "mesh3d"
           }
          ],
          "parcoords": [
           {
            "line": {
             "colorbar": {
              "outlinewidth": 0,
              "ticks": ""
             }
            },
            "type": "parcoords"
           }
          ],
          "pie": [
           {
            "automargin": true,
            "type": "pie"
           }
          ],
          "scatter": [
           {
            "fillpattern": {
             "fillmode": "overlay",
             "size": 10,
             "solidity": 0.2
            },
            "type": "scatter"
           }
          ],
          "scatter3d": [
           {
            "line": {
             "colorbar": {
              "outlinewidth": 0,
              "ticks": ""
             }
            },
            "marker": {
             "colorbar": {
              "outlinewidth": 0,
              "ticks": ""
             }
            },
            "type": "scatter3d"
           }
          ],
          "scattercarpet": [
           {
            "marker": {
             "colorbar": {
              "outlinewidth": 0,
              "ticks": ""
             }
            },
            "type": "scattercarpet"
           }
          ],
          "scattergeo": [
           {
            "marker": {
             "colorbar": {
              "outlinewidth": 0,
              "ticks": ""
             }
            },
            "type": "scattergeo"
           }
          ],
          "scattergl": [
           {
            "marker": {
             "colorbar": {
              "outlinewidth": 0,
              "ticks": ""
             }
            },
            "type": "scattergl"
           }
          ],
          "scattermapbox": [
           {
            "marker": {
             "colorbar": {
              "outlinewidth": 0,
              "ticks": ""
             }
            },
            "type": "scattermapbox"
           }
          ],
          "scatterpolar": [
           {
            "marker": {
             "colorbar": {
              "outlinewidth": 0,
              "ticks": ""
             }
            },
            "type": "scatterpolar"
           }
          ],
          "scatterpolargl": [
           {
            "marker": {
             "colorbar": {
              "outlinewidth": 0,
              "ticks": ""
             }
            },
            "type": "scatterpolargl"
           }
          ],
          "scatterternary": [
           {
            "marker": {
             "colorbar": {
              "outlinewidth": 0,
              "ticks": ""
             }
            },
            "type": "scatterternary"
           }
          ],
          "surface": [
           {
            "colorbar": {
             "outlinewidth": 0,
             "ticks": ""
            },
            "colorscale": [
             [
              0,
              "#0d0887"
             ],
             [
              0.1111111111111111,
              "#46039f"
             ],
             [
              0.2222222222222222,
              "#7201a8"
             ],
             [
              0.3333333333333333,
              "#9c179e"
             ],
             [
              0.4444444444444444,
              "#bd3786"
             ],
             [
              0.5555555555555556,
              "#d8576b"
             ],
             [
              0.6666666666666666,
              "#ed7953"
             ],
             [
              0.7777777777777778,
              "#fb9f3a"
             ],
             [
              0.8888888888888888,
              "#fdca26"
             ],
             [
              1,
              "#f0f921"
             ]
            ],
            "type": "surface"
           }
          ],
          "table": [
           {
            "cells": {
             "fill": {
              "color": "#EBF0F8"
             },
             "line": {
              "color": "white"
             }
            },
            "header": {
             "fill": {
              "color": "#C8D4E3"
             },
             "line": {
              "color": "white"
             }
            },
            "type": "table"
           }
          ]
         },
         "layout": {
          "annotationdefaults": {
           "arrowcolor": "#2a3f5f",
           "arrowhead": 0,
           "arrowwidth": 1
          },
          "autotypenumbers": "strict",
          "coloraxis": {
           "colorbar": {
            "outlinewidth": 0,
            "ticks": ""
           }
          },
          "colorscale": {
           "diverging": [
            [
             0,
             "#8e0152"
            ],
            [
             0.1,
             "#c51b7d"
            ],
            [
             0.2,
             "#de77ae"
            ],
            [
             0.3,
             "#f1b6da"
            ],
            [
             0.4,
             "#fde0ef"
            ],
            [
             0.5,
             "#f7f7f7"
            ],
            [
             0.6,
             "#e6f5d0"
            ],
            [
             0.7,
             "#b8e186"
            ],
            [
             0.8,
             "#7fbc41"
            ],
            [
             0.9,
             "#4d9221"
            ],
            [
             1,
             "#276419"
            ]
           ],
           "sequential": [
            [
             0,
             "#0d0887"
            ],
            [
             0.1111111111111111,
             "#46039f"
            ],
            [
             0.2222222222222222,
             "#7201a8"
            ],
            [
             0.3333333333333333,
             "#9c179e"
            ],
            [
             0.4444444444444444,
             "#bd3786"
            ],
            [
             0.5555555555555556,
             "#d8576b"
            ],
            [
             0.6666666666666666,
             "#ed7953"
            ],
            [
             0.7777777777777778,
             "#fb9f3a"
            ],
            [
             0.8888888888888888,
             "#fdca26"
            ],
            [
             1,
             "#f0f921"
            ]
           ],
           "sequentialminus": [
            [
             0,
             "#0d0887"
            ],
            [
             0.1111111111111111,
             "#46039f"
            ],
            [
             0.2222222222222222,
             "#7201a8"
            ],
            [
             0.3333333333333333,
             "#9c179e"
            ],
            [
             0.4444444444444444,
             "#bd3786"
            ],
            [
             0.5555555555555556,
             "#d8576b"
            ],
            [
             0.6666666666666666,
             "#ed7953"
            ],
            [
             0.7777777777777778,
             "#fb9f3a"
            ],
            [
             0.8888888888888888,
             "#fdca26"
            ],
            [
             1,
             "#f0f921"
            ]
           ]
          },
          "colorway": [
           "#636efa",
           "#EF553B",
           "#00cc96",
           "#ab63fa",
           "#FFA15A",
           "#19d3f3",
           "#FF6692",
           "#B6E880",
           "#FF97FF",
           "#FECB52"
          ],
          "font": {
           "color": "#2a3f5f"
          },
          "geo": {
           "bgcolor": "white",
           "lakecolor": "white",
           "landcolor": "#E5ECF6",
           "showlakes": true,
           "showland": true,
           "subunitcolor": "white"
          },
          "hoverlabel": {
           "align": "left"
          },
          "hovermode": "closest",
          "mapbox": {
           "style": "light"
          },
          "paper_bgcolor": "white",
          "plot_bgcolor": "#E5ECF6",
          "polar": {
           "angularaxis": {
            "gridcolor": "white",
            "linecolor": "white",
            "ticks": ""
           },
           "bgcolor": "#E5ECF6",
           "radialaxis": {
            "gridcolor": "white",
            "linecolor": "white",
            "ticks": ""
           }
          },
          "scene": {
           "xaxis": {
            "backgroundcolor": "#E5ECF6",
            "gridcolor": "white",
            "gridwidth": 2,
            "linecolor": "white",
            "showbackground": true,
            "ticks": "",
            "zerolinecolor": "white"
           },
           "yaxis": {
            "backgroundcolor": "#E5ECF6",
            "gridcolor": "white",
            "gridwidth": 2,
            "linecolor": "white",
            "showbackground": true,
            "ticks": "",
            "zerolinecolor": "white"
           },
           "zaxis": {
            "backgroundcolor": "#E5ECF6",
            "gridcolor": "white",
            "gridwidth": 2,
            "linecolor": "white",
            "showbackground": true,
            "ticks": "",
            "zerolinecolor": "white"
           }
          },
          "shapedefaults": {
           "line": {
            "color": "#2a3f5f"
           }
          },
          "ternary": {
           "aaxis": {
            "gridcolor": "white",
            "linecolor": "white",
            "ticks": ""
           },
           "baxis": {
            "gridcolor": "white",
            "linecolor": "white",
            "ticks": ""
           },
           "bgcolor": "#E5ECF6",
           "caxis": {
            "gridcolor": "white",
            "linecolor": "white",
            "ticks": ""
           }
          },
          "title": {
           "x": 0.05
          },
          "xaxis": {
           "automargin": true,
           "gridcolor": "white",
           "linecolor": "white",
           "ticks": "",
           "title": {
            "standoff": 15
           },
           "zerolinecolor": "white",
           "zerolinewidth": 2
          },
          "yaxis": {
           "automargin": true,
           "gridcolor": "white",
           "linecolor": "white",
           "ticks": "",
           "title": {
            "standoff": 15
           },
           "zerolinecolor": "white",
           "zerolinewidth": 2
          }
         }
        },
        "xaxis": {
         "anchor": "y",
         "domain": [
          0,
          1
         ],
         "title": {
          "text": "start_date"
         }
        },
        "yaxis": {
         "anchor": "x",
         "domain": [
          0,
          1
         ],
         "title": {
          "text": "num_list_users"
         }
        }
       }
      }
     },
     "metadata": {},
     "output_type": "display_data"
    }
   ],
   "source": [
    "max_views_tempo_filtro = data[data[\"start_date\"]>1990].groupby(\"start_date\")[\"num_list_users\"].idxmax()\n",
    "\n",
    "max_views_tempo= data.loc[max_views_tempo_filtro]\n",
    "\n",
    "import plotly.graph_objects as go\n",
    "\n",
    "\n",
    "fig = px.line(x=\"start_date\",y=\"num_list_users\",data_frame=max_views_tempo,hover_data=[\"title\"])\n",
    "\n",
    "\n",
    "fig.add_trace(go.Scatter(x=views_por_ano_sum[\"start_date\"],y=views_por_ano_sum[\"num_list_users\"]*1e6,\n",
    "                    mode='lines',\n",
    "                    name='teste'))\n"
   ]
  },
  {
   "cell_type": "code",
   "execution_count": 89,
   "metadata": {},
   "outputs": [
    {
     "data": {
      "text/plain": [
       "<Axes: xlabel='start_date', ylabel='num_list_users'>"
      ]
     },
     "execution_count": 89,
     "metadata": {},
     "output_type": "execute_result"
    },
    {
     "data": {
      "image/png": "[encoded data removed]",
      "text/plain": [
       "<Figure size 1600x900 with 1 Axes>"
      ]
     },
     "metadata": {},
     "output_type": "display_data"
    }
   ],
   "source": [
    "figura, ax = plt.subplots(figsize=(16, 9))\n",
    "sns.boxplot(x=\"start_date\",y=\"num_list_users\",data=data[data[\"start_date\"]>1990])"
   ]
  },
  {
   "cell_type": "code",
   "execution_count": 72,
   "metadata": {},
   "outputs": [
    {
     "data": {
      "text/plain": [
       "10000000.0"
      ]
     },
     "execution_count": 72,
     "metadata": {},
     "output_type": "execute_result"
    }
   ],
   "source": []
  }
 ],
 "metadata": {
  "kernelspec": {
   "display_name": "Python 3",
   "language": "python",
   "name": "python3"
  },
  "language_info": {
   "codemirror_mode": {
    "name": "ipython",
    "version": 3
   },
   "file_extension": ".py",
   "mimetype": "text/x-python",
   "name": "python",
   "nbconvert_exporter": "python",
   "pygments_lexer": "ipython3",
   "version": "3.9.0"
  }
 },
 "nbformat": 4,
 "nbformat_minor": 2
}
