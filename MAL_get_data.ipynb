{
 "cells": [
  {
   "cell_type": "markdown",
   "metadata": {},
   "source": [
    "## 1. Pegar dados\n",
    "\n",
    "Neste notebok está como coletei dados sobre animes do myanimelist, desde o acesso a API até criação de um CSV que será utilizado para análise. <br>\n",
    "A documentação da API está disponível nesse [link](https://myanimelist.net/apiconfig/references/api/v2). \n",
    "Vamos inicialmente verificar se conseguimos acessar a API"
   ]
  },
  {
   "cell_type": "code",
   "execution_count": 2,
   "metadata": {},
   "outputs": [
    {
     "name": "stdout",
     "output_type": "stream",
     "text": [
      "dict_keys(['data', 'paging'])\n"
     ]
    }
   ],
   "source": [
    "import requests\n",
    "\n",
    "# URL da API para coletar 100 primeiros animes e parâmetros que são as colunas\n",
    "url = 'https://api.myanimelist.net/v2/anime/ranking?ranking_type=all&limit=100'\n",
    "params = {'fields': 'id,title,main_picture,alternative_titles,start_date,end_date,synopsis,mean,rank,popularity,num_list_users,num_scoring_users,nsfw,media_type,status,genres,my_list_status,num_episodes,start_season,broadcast,source,average_episode_duration,rating,pictures,background,related_anime,related_manga,recommendations,studios,statistics'}\n",
    "\n",
    "# Cabeçalho com X-MAL-CLIENT-ID \n",
    "headers = {'X-MAL-CLIENT-ID': 'sua_cliente_id'}\n",
    "\n",
    "# Faz a solicitação GET de teste\n",
    "response = requests.get(url, params=params, headers=headers)\n",
    "\n",
    "# Verifica se a solicitação foi bem-sucedida\n",
    "if response.status_code == 200:\n",
    "    data = response.json()\n",
    "    print(data.keys())\n"
   ]
  },
  {
   "cell_type": "markdown",
   "metadata": {},
   "source": [
    "Como obtivemos sucesso então vamos coletar os dados de 10 mil animes. E vamos coletar de 100 em 100 devido a restrição da API. No fim vou contar o número de paginas para verificar se ele coletou tudo do jeito que queríamos"
   ]
  },
  {
   "cell_type": "code",
   "execution_count": 3,
   "metadata": {},
   "outputs": [
    {
     "data": {
      "text/plain": [
       "100"
      ]
     },
     "execution_count": 3,
     "metadata": {},
     "output_type": "execute_result"
    }
   ],
   "source": [
    "# Pega 10000 melhores animes do myanimelist\n",
    "import time\n",
    "offset = 0\n",
    "pages=[]\n",
    "for i in range(100):\n",
    "    url = f'https://api.myanimelist.net/v2/anime/ranking?ranking_type=all&limit=100&offset={offset}'\n",
    "    headers = {'X-MAL-CLIENT-ID': 'f1b6120193c1f23a65eb328af2be3ae9'}\n",
    "    response = requests.get(url, params=params, headers=headers)\n",
    "    data = response.json()\n",
    "    pages.append(data)\n",
    "    offset +=100\n",
    "    # Sleep para a API não achar que é um ataque DDOS\n",
    "    time.sleep(1)\n",
    "\n",
    "len(pages)"
   ]
  },
  {
   "cell_type": "markdown",
   "metadata": {},
   "source": [
    "Dentro de cada page temos existem 100 animes que, onde os dados estão na chave `data`. Nessa chave as informações que queremos está na chave `node`"
   ]
  },
  {
   "cell_type": "code",
   "execution_count": 4,
   "metadata": {},
   "outputs": [
    {
     "data": {
      "text/plain": [
       "dict_keys(['id', 'title', 'main_picture', 'alternative_titles', 'start_date', 'end_date', 'synopsis', 'mean', 'rank', 'popularity', 'num_list_users', 'num_scoring_users', 'nsfw', 'media_type', 'status', 'genres', 'num_episodes', 'start_season', 'broadcast', 'source', 'average_episode_duration', 'rating', 'studios'])"
      ]
     },
     "execution_count": 4,
     "metadata": {},
     "output_type": "execute_result"
    }
   ],
   "source": [
    "pages[0][\"data\"][0][\"node\"].keys()"
   ]
  },
  {
   "cell_type": "markdown",
   "metadata": {},
   "source": [
    "Vamos verificar como esta formatado algumas das informações que queremos para projetar um pouco do trabalho que teremos no futuro"
   ]
  },
  {
   "cell_type": "code",
   "execution_count": 5,
   "metadata": {},
   "outputs": [
    {
     "data": {
      "text/plain": [
       "[{'id': 1, 'name': 'Action'},\n",
       " {'id': 2, 'name': 'Adventure'},\n",
       " {'id': 8, 'name': 'Drama'},\n",
       " {'id': 10, 'name': 'Fantasy'},\n",
       " {'id': 38, 'name': 'Military'},\n",
       " {'id': 27, 'name': 'Shounen'}]"
      ]
     },
     "execution_count": 5,
     "metadata": {},
     "output_type": "execute_result"
    }
   ],
   "source": [
    "pages[0][\"data\"][0][\"node\"][\"genres\"]"
   ]
  },
  {
   "cell_type": "code",
   "execution_count": 6,
   "metadata": {},
   "outputs": [
    {
     "data": {
      "text/plain": [
       "'Fullmetal Alchemist: Brotherhood'"
      ]
     },
     "execution_count": 6,
     "metadata": {},
     "output_type": "execute_result"
    }
   ],
   "source": [
    "pages[0][\"data\"][0][\"node\"][\"title\"]"
   ]
  },
  {
   "cell_type": "code",
   "execution_count": 7,
   "metadata": {},
   "outputs": [
    {
     "data": {
      "text/plain": [
       "9.1"
      ]
     },
     "execution_count": 7,
     "metadata": {},
     "output_type": "execute_result"
    }
   ],
   "source": [
    "pages[0][\"data\"][0][\"node\"][\"mean\"]"
   ]
  },
  {
   "cell_type": "code",
   "execution_count": 8,
   "metadata": {},
   "outputs": [
    {
     "data": {
      "text/plain": [
       "2061018"
      ]
     },
     "execution_count": 8,
     "metadata": {},
     "output_type": "execute_result"
    }
   ],
   "source": [
    "pages[0][\"data\"][0][\"node\"][\"num_scoring_users\"]"
   ]
  },
  {
   "cell_type": "code",
   "execution_count": 9,
   "metadata": {},
   "outputs": [
    {
     "data": {
      "text/plain": [
       "'r'"
      ]
     },
     "execution_count": 9,
     "metadata": {},
     "output_type": "execute_result"
    }
   ],
   "source": [
    "pages[0][\"data\"][0][\"node\"][\"rating\"]"
   ]
  },
  {
   "cell_type": "code",
   "execution_count": 10,
   "metadata": {},
   "outputs": [
    {
     "data": {
      "text/plain": [
       "'2009-04-05'"
      ]
     },
     "execution_count": 10,
     "metadata": {},
     "output_type": "execute_result"
    }
   ],
   "source": [
    "pages[0][\"data\"][0][\"node\"][\"start_date\"]"
   ]
  },
  {
   "cell_type": "code",
   "execution_count": 11,
   "metadata": {},
   "outputs": [
    {
     "data": {
      "text/plain": [
       "64"
      ]
     },
     "execution_count": 11,
     "metadata": {},
     "output_type": "execute_result"
    }
   ],
   "source": [
    "pages[0][\"data\"][0][\"node\"][\"num_episodes\"]"
   ]
  },
  {
   "cell_type": "code",
   "execution_count": 12,
   "metadata": {},
   "outputs": [
    {
     "data": {
      "text/plain": [
       "3247266"
      ]
     },
     "execution_count": 12,
     "metadata": {},
     "output_type": "execute_result"
    }
   ],
   "source": [
    "pages[0][\"data\"][0][\"node\"][\"num_list_users\"]"
   ]
  },
  {
   "cell_type": "code",
   "execution_count": 13,
   "metadata": {},
   "outputs": [
    {
     "data": {
      "text/plain": [
       "{'day_of_the_week': 'sunday', 'start_time': '17:00'}"
      ]
     },
     "execution_count": 13,
     "metadata": {},
     "output_type": "execute_result"
    }
   ],
   "source": [
    "pages[0][\"data\"][0][\"node\"][\"broadcast\"]"
   ]
  },
  {
   "cell_type": "markdown",
   "metadata": {},
   "source": [
    "Então vamos selecionar as variaveis que queremos e adicionar a um dicionário"
   ]
  },
  {
   "cell_type": "code",
   "execution_count": 14,
   "metadata": {},
   "outputs": [],
   "source": [
    "import numpy as np\n",
    "lista = []\n",
    "interest_variables = [\"id\",\"title\",\"mean\",\"rank\",\"genres\",\"num_list_users\",\"num_scoring_users\",\"num_episodes\",\"source\",\"rating\",\"nsfw\",\"studios\",\"media_type\",\"average_episode_duration\",\"start_date\"]\n",
    "for i in range(100):\n",
    "    for j in range(100):\n",
    "        value = {}\n",
    "        for key in interest_variables:\n",
    "            try:\n",
    "                value[key] = pages[i][\"data\"][j][\"node\"][key]\n",
    "            except KeyError:\n",
    "                value[key] = np.nan\n",
    "        lista.append(value)\n"
   ]
  },
  {
   "cell_type": "markdown",
   "metadata": {},
   "source": [
    "Com os dados no dicionários, vamos transformá-los em um dataframe"
   ]
  },
  {
   "cell_type": "code",
   "execution_count": 15,
   "metadata": {},
   "outputs": [
    {
     "data": {
      "text/html": [
       "<div>\n",
       "<style scoped>\n",
       "    .dataframe tbody tr th:only-of-type {\n",
       "        vertical-align: middle;\n",
       "    }\n",
       "\n",
       "    .dataframe tbody tr th {\n",
       "        vertical-align: top;\n",
       "    }\n",
       "\n",
       "    .dataframe thead th {\n",
       "        text-align: right;\n",
       "    }\n",
       "</style>\n",
       "<table border=\"1\" class=\"dataframe\">\n",
       "  <thead>\n",
       "    <tr style=\"text-align: right;\">\n",
       "      <th></th>\n",
       "      <th>id</th>\n",
       "      <th>title</th>\n",
       "      <th>mean</th>\n",
       "      <th>rank</th>\n",
       "      <th>genres</th>\n",
       "      <th>num_list_users</th>\n",
       "      <th>num_scoring_users</th>\n",
       "      <th>num_episodes</th>\n",
       "      <th>source</th>\n",
       "      <th>rating</th>\n",
       "      <th>nsfw</th>\n",
       "      <th>studios</th>\n",
       "      <th>media_type</th>\n",
       "      <th>average_episode_duration</th>\n",
       "      <th>start_date</th>\n",
       "    </tr>\n",
       "  </thead>\n",
       "  <tbody>\n",
       "    <tr>\n",
       "      <th>4594</th>\n",
       "      <td>2716</td>\n",
       "      <td>Urayasu Tekkin Kazoku</td>\n",
       "      <td>6.89</td>\n",
       "      <td>4595</td>\n",
       "      <td>[{'id': 4, 'name': 'Comedy'}, {'id': 57, 'name...</td>\n",
       "      <td>2187</td>\n",
       "      <td>667</td>\n",
       "      <td>32</td>\n",
       "      <td>manga</td>\n",
       "      <td>r</td>\n",
       "      <td>white</td>\n",
       "      <td>[{'id': 37, 'name': 'Studio Deen'}]</td>\n",
       "      <td>tv</td>\n",
       "      <td>420</td>\n",
       "      <td>1998-07-01</td>\n",
       "    </tr>\n",
       "    <tr>\n",
       "      <th>73</th>\n",
       "      <td>11665</td>\n",
       "      <td>Natsume Yuujinchou Shi</td>\n",
       "      <td>8.64</td>\n",
       "      <td>74</td>\n",
       "      <td>[{'id': 8, 'name': 'Drama'}, {'id': 63, 'name'...</td>\n",
       "      <td>240457</td>\n",
       "      <td>106456</td>\n",
       "      <td>13</td>\n",
       "      <td>manga</td>\n",
       "      <td>pg_13</td>\n",
       "      <td>white</td>\n",
       "      <td>[{'id': 112, 'name': 'Brain's Base'}]</td>\n",
       "      <td>tv</td>\n",
       "      <td>1440</td>\n",
       "      <td>2012-01-03</td>\n",
       "    </tr>\n",
       "    <tr>\n",
       "      <th>8693</th>\n",
       "      <td>511</td>\n",
       "      <td>Kidou Shinsengumi Moeyo Ken TV</td>\n",
       "      <td>6.11</td>\n",
       "      <td>8694</td>\n",
       "      <td>[{'id': 2, 'name': 'Adventure'}, {'id': 4, 'na...</td>\n",
       "      <td>5985</td>\n",
       "      <td>1961</td>\n",
       "      <td>13</td>\n",
       "      <td>game</td>\n",
       "      <td>pg_13</td>\n",
       "      <td>white</td>\n",
       "      <td>[{'id': 63, 'name': 'Trinet Entertainment'}, {...</td>\n",
       "      <td>tv</td>\n",
       "      <td>1500</td>\n",
       "      <td>2005-07-02</td>\n",
       "    </tr>\n",
       "    <tr>\n",
       "      <th>4939</th>\n",
       "      <td>50010</td>\n",
       "      <td>Meitantei Conan: Hannin no Hanzawa-san</td>\n",
       "      <td>6.82</td>\n",
       "      <td>4940</td>\n",
       "      <td>[{'id': 4, 'name': 'Comedy'}, {'id': 7, 'name'...</td>\n",
       "      <td>11358</td>\n",
       "      <td>4558</td>\n",
       "      <td>12</td>\n",
       "      <td>manga</td>\n",
       "      <td>pg_13</td>\n",
       "      <td>white</td>\n",
       "      <td>[{'id': 73, 'name': 'TMS Entertainment'}]</td>\n",
       "      <td>tv</td>\n",
       "      <td>542</td>\n",
       "      <td>2022-10-04</td>\n",
       "    </tr>\n",
       "    <tr>\n",
       "      <th>2940</th>\n",
       "      <td>51498</td>\n",
       "      <td>Masamune-kun no Revenge R</td>\n",
       "      <td>7.24</td>\n",
       "      <td>2941</td>\n",
       "      <td>[{'id': 4, 'name': 'Comedy'}, {'id': 35, 'name...</td>\n",
       "      <td>175164</td>\n",
       "      <td>53189</td>\n",
       "      <td>12</td>\n",
       "      <td>manga</td>\n",
       "      <td>pg_13</td>\n",
       "      <td>white</td>\n",
       "      <td>[{'id': 300, 'name': 'SILVER LINK.'}]</td>\n",
       "      <td>tv</td>\n",
       "      <td>1380</td>\n",
       "      <td>2023-07-03</td>\n",
       "    </tr>\n",
       "  </tbody>\n",
       "</table>\n",
       "</div>"
      ],
      "text/plain": [
       "         id                                   title  mean  rank  \\\n",
       "4594   2716                   Urayasu Tekkin Kazoku  6.89  4595   \n",
       "73    11665                  Natsume Yuujinchou Shi  8.64    74   \n",
       "8693    511          Kidou Shinsengumi Moeyo Ken TV  6.11  8694   \n",
       "4939  50010  Meitantei Conan: Hannin no Hanzawa-san  6.82  4940   \n",
       "2940  51498               Masamune-kun no Revenge R  7.24  2941   \n",
       "\n",
       "                                                 genres  num_list_users  \\\n",
       "4594  [{'id': 4, 'name': 'Comedy'}, {'id': 57, 'name...            2187   \n",
       "73    [{'id': 8, 'name': 'Drama'}, {'id': 63, 'name'...          240457   \n",
       "8693  [{'id': 2, 'name': 'Adventure'}, {'id': 4, 'na...            5985   \n",
       "4939  [{'id': 4, 'name': 'Comedy'}, {'id': 7, 'name'...           11358   \n",
       "2940  [{'id': 4, 'name': 'Comedy'}, {'id': 35, 'name...          175164   \n",
       "\n",
       "      num_scoring_users  num_episodes source rating   nsfw  \\\n",
       "4594                667            32  manga      r  white   \n",
       "73               106456            13  manga  pg_13  white   \n",
       "8693               1961            13   game  pg_13  white   \n",
       "4939               4558            12  manga  pg_13  white   \n",
       "2940              53189            12  manga  pg_13  white   \n",
       "\n",
       "                                                studios media_type  \\\n",
       "4594                [{'id': 37, 'name': 'Studio Deen'}]         tv   \n",
       "73                [{'id': 112, 'name': 'Brain's Base'}]         tv   \n",
       "8693  [{'id': 63, 'name': 'Trinet Entertainment'}, {...         tv   \n",
       "4939          [{'id': 73, 'name': 'TMS Entertainment'}]         tv   \n",
       "2940              [{'id': 300, 'name': 'SILVER LINK.'}]         tv   \n",
       "\n",
       "      average_episode_duration  start_date  \n",
       "4594                       420  1998-07-01  \n",
       "73                        1440  2012-01-03  \n",
       "8693                      1500  2005-07-02  \n",
       "4939                       542  2022-10-04  \n",
       "2940                      1380  2023-07-03  "
      ]
     },
     "execution_count": 15,
     "metadata": {},
     "output_type": "execute_result"
    }
   ],
   "source": [
    "import pandas as pd\n",
    "data = pd.DataFrame(lista)\n",
    "data.sample(5)"
   ]
  },
  {
   "cell_type": "markdown",
   "metadata": {},
   "source": [
    "Nesses dados temos dicionários dentro de listas no casos de `genres` e `studios`, onde temos o nome do gênero e o ID. Então vamos transformar isso apenas uma lista com gêneros"
   ]
  },
  {
   "cell_type": "code",
   "execution_count": null,
   "metadata": {},
   "outputs": [],
   "source": [
    "def is_list(value):\n",
    "    return isinstance(value, list)\n",
    "\n",
    "\n",
    "\n",
    "\n",
    "## Cria filtro para selecionar apenas as listas\n",
    "sao_listas_genres = data['genres'].apply(is_list)\n",
    "\n",
    "sao_listas_studios = data['studios'].apply(is_list)\n",
    "\n",
    "## Pega os nomes do generos e studios\n",
    "data[\"genres\"][sao_listas_genres] = data[\"genres\"][sao_listas_genres].apply(lambda x: [item['name'] for item in x])\n",
    "data[\"studios\"][sao_listas_studios] = data[\"studios\"][sao_listas_studios].apply(lambda x: [item['name'] for item in x])"
   ]
  },
  {
   "cell_type": "markdown",
   "metadata": {},
   "source": [
    "Por fim, vamos exportar o CSV"
   ]
  },
  {
   "cell_type": "code",
   "execution_count": 17,
   "metadata": {},
   "outputs": [],
   "source": [
    "data.to_excel(\"mal_data.xlsx\") "
   ]
  }
 ],
 "metadata": {
  "kernelspec": {
   "display_name": "Python 3",
   "language": "python",
   "name": "python3"
  },
  "language_info": {
   "codemirror_mode": {
    "name": "ipython",
    "version": 3
   },
   "file_extension": ".py",
   "mimetype": "text/x-python",
   "name": "python",
   "nbconvert_exporter": "python",
   "pygments_lexer": "ipython3",
   "version": "3.9.0"
  },
  "orig_nbformat": 4
 },
 "nbformat": 4,
 "nbformat_minor": 2
}
